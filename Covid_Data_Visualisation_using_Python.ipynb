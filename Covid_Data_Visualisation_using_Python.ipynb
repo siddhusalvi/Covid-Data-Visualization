{
  "nbformat": 4,
  "nbformat_minor": 0,
  "metadata": {
    "colab": {
      "name": "Covid Data Visualisation  using Python.ipynb",
      "provenance": [],
      "collapsed_sections": [],
      "mount_file_id": "1XMCRnos-X6OUUEFro4U2MXyxcaO6o5rm",
      "authorship_tag": "ABX9TyPb67EE+scMipyWBxPjzeIn",
      "include_colab_link": true
    },
    "kernelspec": {
      "name": "python3",
      "display_name": "Python 3"
    }
  },
  "cells": [
    {
      "cell_type": "markdown",
      "metadata": {
        "id": "view-in-github",
        "colab_type": "text"
      },
      "source": [
        "<a href=\"https://colab.research.google.com/github/siddhusalvi/Covid-Data-Visualization/blob/master/Covid_Data_Visualisation_using_Python.ipynb\" target=\"_parent\"><img src=\"https://colab.research.google.com/assets/colab-badge.svg\" alt=\"Open In Colab\"/></a>"
      ]
    },
    {
      "cell_type": "markdown",
      "metadata": {
        "id": "xfjpqtLVUeix"
      },
      "source": [
        "### File System and Spark Setup\n"
      ]
    },
    {
      "cell_type": "code",
      "metadata": {
        "id": "fiYaHc1CcQUz"
      },
      "source": [
        "from google.colab import drive\n",
        "drive.mount('/content/drive/')"
      ],
      "execution_count": null,
      "outputs": []
    },
    {
      "cell_type": "code",
      "metadata": {
        "id": "6B0Mgm1hOGJf"
      },
      "source": [
        "!apt-get update\n",
        "!apt-get install openjdk-8-jdk-headless -qq > /dev/null\n",
        "!wget -q http://archive.apache.org/dist/spark/spark-2.3.1/spark-2.3.1-bin-hadoop2.7.tgz\n",
        "!tar xf spark-2.3.1-bin-hadoop2.7.tgz\n",
        "!pip install -q findspark\n",
        "import os\n",
        "os.environ[\"JAVA_HOME\"] = \"/usr/lib/jvm/java-8-openjdk-amd64\"\n",
        "os.environ[\"SPARK_HOME\"] = \"/content/spark-2.3.1-bin-hadoop2.7\"\n",
        "import findspark\n",
        "findspark.init()\n",
        "import pyspark\n",
        "from pyspark.sql import SparkSession\n",
        "spark = SparkSession.builder.getOrCreate() \n",
        "spark"
      ],
      "execution_count": null,
      "outputs": []
    },
    {
      "cell_type": "markdown",
      "metadata": {
        "id": "cpi73aRHPbmG"
      },
      "source": [
        "### Plotly Setup"
      ]
    },
    {
      "cell_type": "code",
      "metadata": {
        "id": "QnKFK4Q4mnqN"
      },
      "source": [
        "!pip install plotly==4.7.1\n",
        "!wget https://github.com/plotly/orca/releases/download/v1.2.1/orca-1.2.1-x86_64.AppImage -O /usr/local/bin/orca\n",
        "!chmod +x /usr/local/bin/orca\n",
        "!apt-get install xvfb libgtk2.0-0 libgconf-2-4\n",
        "import plotly.graph_objects as go"
      ],
      "execution_count": null,
      "outputs": []
    },
    {
      "cell_type": "markdown",
      "metadata": {
        "id": "Xt4V_3QfWV0Z"
      },
      "source": [
        "### DataFrame and SQL Operations\n",
        "\n"
      ]
    },
    {
      "cell_type": "code",
      "metadata": {
        "id": "57gdMmp2Wx7p"
      },
      "source": [
        "path = '/content/drive/My Drive/Siddhu/data/covidData.json'"
      ],
      "execution_count": 13,
      "outputs": []
    },
    {
      "cell_type": "code",
      "metadata": {
        "id": "OmLSc9x2b0KT"
      },
      "source": [
        "from pyspark.sql.types import ArrayType, StructField, StructType, StringType, IntegerType,DateType\n",
        "from pyspark.sql.functions import col,when"
      ],
      "execution_count": 18,
      "outputs": []
    },
    {
      "cell_type": "code",
      "metadata": {
        "id": "Bkv7eCPtYCYD"
      },
      "source": [
        "schema = StructType([\n",
        "          StructField(\"agebracket\", StringType(), True),\n",
        "          StructField(\"backupnotes\", StringType(), True),\n",
        "          StructField(\"contractedfromwhichpatientsuspected\", StringType(), True),\n",
        "          StructField(\"currentstatus\", StringType(), True),\n",
        "          StructField(\"dateannounced\", DateType(), True),\n",
        "          StructField(\"detectedcity\", StringType(), True),\n",
        "          StructField(\"detecteddistrict\", StringType(), True),\n",
        "          StructField(\"detectedstate\", StringType(), True),\n",
        "          StructField(\"estimatedonsetdate\", StringType(), True),\n",
        "          StructField(\"gender\", StringType(), True),\n",
        "          StructField(\"nationality\", StringType(), True),\n",
        "          StructField(\"notes\", StringType(), True),\n",
        "          StructField(\"numcases\", StringType(), True),\n",
        "          StructField(\"patientnumber\", StringType(), True),\n",
        "          StructField(\"source1\", StringType(), True),\n",
        "          StructField(\"source2\", StringType(), True),\n",
        "          StructField(\"source3\", StringType(), True),\n",
        "          StructField(\"statecode\", StringType(), True),\n",
        "          StructField(\"statepatientnumber\", StringType(), True),\n",
        "          StructField(\"statuschangedate\", DateType(), True),\n",
        "          StructField(\"typeoftransmission\", StringType(), True)\n",
        "])"
      ],
      "execution_count": 89,
      "outputs": []
    },
    {
      "cell_type": "code",
      "metadata": {
        "id": "yr5GcC-2ckKi"
      },
      "source": [
        "covidDF = spark.read.option(\"dateFormat\", \"dd/MM/yyyy\").json(path, schema)"
      ],
      "execution_count": 90,
      "outputs": []
    },
    {
      "cell_type": "code",
      "metadata": {
        "id": "s9u5MHt1z29M",
        "outputId": "450ef50f-faa4-46b5-86c6-c763ad0b049a",
        "colab": {
          "base_uri": "https://localhost:8080/",
          "height": 34
        }
      },
      "source": [
        "covidDF.count()"
      ],
      "execution_count": 21,
      "outputs": [
        {
          "output_type": "execute_result",
          "data": {
            "text/plain": [
              "28183"
            ]
          },
          "metadata": {
            "tags": []
          },
          "execution_count": 21
        }
      ]
    },
    {
      "cell_type": "code",
      "metadata": {
        "id": "VM87zxK08i8U"
      },
      "source": [
        "covidDF.show()"
      ],
      "execution_count": null,
      "outputs": []
    },
    {
      "cell_type": "code",
      "metadata": {
        "id": "tD0rShy7cyGq"
      },
      "source": [
        "covidDF.printSchema"
      ],
      "execution_count": null,
      "outputs": []
    },
    {
      "cell_type": "markdown",
      "metadata": {
        "id": "nC9CmvOxpz-X"
      },
      "source": [
        "#### Infected Gender\n"
      ]
    },
    {
      "cell_type": "code",
      "metadata": {
        "id": "f0f3NTOFnq9o",
        "outputId": "53babe67-4764-451a-e4c4-a077600cbb40",
        "colab": {
          "base_uri": "https://localhost:8080/",
          "height": 158
        }
      },
      "source": [
        "covidDF.groupby('gender').count().show()"
      ],
      "execution_count": 87,
      "outputs": [
        {
          "output_type": "stream",
          "text": [
            "+------+-----+\n",
            "|gender|count|\n",
            "+------+-----+\n",
            "|     F| 1766|\n",
            "|     M| 3547|\n",
            "|      |22870|\n",
            "+------+-----+\n",
            "\n"
          ],
          "name": "stdout"
        }
      ]
    },
    {
      "cell_type": "markdown",
      "metadata": {
        "id": "yHkFn01Yp4j4"
      },
      "source": [
        "#### Infected Patient by cities\n",
        "\n"
      ]
    },
    {
      "cell_type": "code",
      "metadata": {
        "id": "GQXNUupMo3UL",
        "outputId": "38a89a68-ef50-4f4d-91d1-2ad575bcc160",
        "colab": {
          "base_uri": "https://localhost:8080/",
          "height": 212
        }
      },
      "source": [
        "covidDF.groupby('detectedcity').count().orderBy(col(\"count\").desc()).where(col(\"detectedcity\") != \"\").show(5)"
      ],
      "execution_count": 43,
      "outputs": [
        {
          "output_type": "stream",
          "text": [
            "+------------+-----+\n",
            "|detectedcity|count|\n",
            "+------------+-----+\n",
            "|       Thane|  108|\n",
            "|        MCGM|  108|\n",
            "| Navi Mumbai|   71|\n",
            "|         PMC|   69|\n",
            "| Vasai-Virar|   61|\n",
            "+------------+-----+\n",
            "only showing top 5 rows\n",
            "\n"
          ],
          "name": "stdout"
        }
      ]
    },
    {
      "cell_type": "markdown",
      "metadata": {
        "id": "WLeDUgvtxP_O"
      },
      "source": [
        "#### Recovered Patient by cities\n",
        "\n"
      ]
    },
    {
      "cell_type": "code",
      "metadata": {
        "id": "avos_picxKhV",
        "outputId": "db4106de-0133-47f4-f4a3-e50d5a12e3bb",
        "colab": {
          "base_uri": "https://localhost:8080/",
          "height": 212
        }
      },
      "source": [
        "covidDF.filter(col('currentstatus')=='Recovered').groupby('detectedcity').count().orderBy(col(\"count\").desc()).where(col(\"detectedcity\") != \"\").show(5)\n"
      ],
      "execution_count": 45,
      "outputs": [
        {
          "output_type": "stream",
          "text": [
            "+------------+-----+\n",
            "|detectedcity|count|\n",
            "+------------+-----+\n",
            "|   Bengaluru|   23|\n",
            "|    Gurugram|   12|\n",
            "|       Ranni|    7|\n",
            "|       Kochi|    6|\n",
            "|Gauribidanur|    5|\n",
            "+------------+-----+\n",
            "only showing top 5 rows\n",
            "\n"
          ],
          "name": "stdout"
        }
      ]
    },
    {
      "cell_type": "markdown",
      "metadata": {
        "id": "veCnA0x-bFK9"
      },
      "source": [
        "####Spliting Patients into AgeGroups\n",
        "\n",
        "\n"
      ]
    },
    {
      "cell_type": "code",
      "metadata": {
        "id": "x4rPnqAlfinV",
        "outputId": "9d9a1b6d-b895-4389-8d1c-b1a97fd7d539",
        "colab": {
          "base_uri": "https://localhost:8080/",
          "height": 176
        }
      },
      "source": [
        "covidDF.withColumn(\"age\",col(\"agebracket\").cast(\"Integer\"))\\\n",
        ".withColumn(\"agegroup\",when(col(\"age\") < 15 ,\"Minor\").when((col('age') > 14) & (col(\"age\")< 31),\"Young\").when((col('age') > 30) & (col(\"age\")< 51),\"Adult\").when(col(\"age\")> 50,\"Older\"))\\\n",
        ".filter(col('agegroup') != \"null\" )\\\n",
        ".groupby('agegroup').count().show()"
      ],
      "execution_count": 109,
      "outputs": [
        {
          "output_type": "stream",
          "text": [
            "+--------+-----+\n",
            "|agegroup|count|\n",
            "+--------+-----+\n",
            "|   Older|  584|\n",
            "|   Minor|  161|\n",
            "|   Adult|  920|\n",
            "|   Young|  677|\n",
            "+--------+-----+\n",
            "\n"
          ],
          "name": "stdout"
        }
      ]
    }
  ]
}