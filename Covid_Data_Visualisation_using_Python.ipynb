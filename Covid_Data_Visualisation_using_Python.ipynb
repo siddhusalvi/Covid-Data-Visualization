{
  "nbformat": 4,
  "nbformat_minor": 0,
  "metadata": {
    "colab": {
      "name": "Covid Data Visualisation  using Python.ipynb",
      "provenance": [],
      "collapsed_sections": [],
      "mount_file_id": "1XMCRnos-X6OUUEFro4U2MXyxcaO6o5rm",
      "authorship_tag": "ABX9TyNGoNbQ6jOD1hBMjlQ58Vah",
      "include_colab_link": true
    },
    "kernelspec": {
      "name": "python3",
      "display_name": "Python 3"
    }
  },
  "cells": [
    {
      "cell_type": "markdown",
      "metadata": {
        "id": "view-in-github",
        "colab_type": "text"
      },
      "source": [
        "<a href=\"https://colab.research.google.com/github/siddhusalvi/Covid-Data-Visualization/blob/Practice/Covid_Data_Visualisation_using_Python.ipynb\" target=\"_parent\"><img src=\"https://colab.research.google.com/assets/colab-badge.svg\" alt=\"Open In Colab\"/></a>"
      ]
    },
    {
      "cell_type": "code",
      "metadata": {
        "id": "fiYaHc1CcQUz",
        "outputId": "87e5c41c-b819-42ab-c22c-0370a57abc50",
        "colab": {
          "base_uri": "https://localhost:8080/",
          "height": 34
        }
      },
      "source": [
        "from google.colab import drive\n",
        "drive.mount('/content/drive/')"
      ],
      "execution_count": 16,
      "outputs": [
        {
          "output_type": "stream",
          "text": [
            "Drive already mounted at /content/drive/; to attempt to forcibly remount, call drive.mount(\"/content/drive/\", force_remount=True).\n"
          ],
          "name": "stdout"
        }
      ]
    },
    {
      "cell_type": "code",
      "metadata": {
        "id": "6B0Mgm1hOGJf"
      },
      "source": [
        "!apt-get update\n",
        "!apt-get install openjdk-8-jdk-headless -qq > /dev/null\n",
        "!wget -q http://archive.apache.org/dist/spark/spark-2.3.1/spark-2.3.1-bin-hadoop2.7.tgz\n",
        "!tar xf spark-2.3.1-bin-hadoop2.7.tgz\n",
        "!pip install -q findspark\n",
        "import os\n",
        "os.environ[\"JAVA_HOME\"] = \"/usr/lib/jvm/java-8-openjdk-amd64\"\n",
        "os.environ[\"SPARK_HOME\"] = \"/content/spark-2.3.1-bin-hadoop2.7\"\n",
        "import findspark\n",
        "findspark.init()\n",
        "import pyspark\n",
        "from pyspark.sql import SparkSession\n",
        "spark = SparkSession.builder.getOrCreate() \n",
        "spark"
      ],
      "execution_count": null,
      "outputs": []
    },
    {
      "cell_type": "code",
      "metadata": {
        "id": "QnKFK4Q4mnqN"
      },
      "source": [
        "!pip install plotly==4.7.1\n",
        "!wget https://github.com/plotly/orca/releases/download/v1.2.1/orca-1.2.1-x86_64.AppImage -O /usr/local/bin/orca\n",
        "!chmod +x /usr/local/bin/orca\n",
        "!apt-get install xvfb libgtk2.0-0 libgconf-2-4\n",
        "import plotly.graph_objects as go"
      ],
      "execution_count": null,
      "outputs": []
    },
    {
      "cell_type": "code",
      "metadata": {
        "id": "57gdMmp2Wx7p"
      },
      "source": [
        "path = '/content/drive/My Drive/Siddhu/data/covidData.json'"
      ],
      "execution_count": 19,
      "outputs": []
    },
    {
      "cell_type": "code",
      "metadata": {
        "id": "OmLSc9x2b0KT"
      },
      "source": [
        "from pyspark.sql.types import ArrayType, StructField, StructType, StringType, IntegerType,DateType\n",
        "from pyspark.sql.functions import col,when"
      ],
      "execution_count": 20,
      "outputs": []
    },
    {
      "cell_type": "code",
      "metadata": {
        "id": "Bkv7eCPtYCYD"
      },
      "source": [
        "schema = StructType([\n",
        "          StructField(\"agebracket\", StringType(), True),\n",
        "          StructField(\"backupnotes\", StringType(), True),\n",
        "          StructField(\"contractedfromwhichpatientsuspected\", StringType(), True),\n",
        "          StructField(\"currentstatus\", StringType(), True),\n",
        "          StructField(\"dateannounced\", DateType(), True),\n",
        "          StructField(\"detectedcity\", StringType(), True),\n",
        "          StructField(\"detecteddistrict\", StringType(), True),\n",
        "          StructField(\"detectedstate\", StringType(), True),\n",
        "          StructField(\"estimatedonsetdate\", StringType(), True),\n",
        "          StructField(\"gender\", StringType(), True),\n",
        "          StructField(\"nationality\", StringType(), True),\n",
        "          StructField(\"notes\", StringType(), True),\n",
        "          StructField(\"numcases\", StringType(), True),\n",
        "          StructField(\"patientnumber\", StringType(), True),\n",
        "          StructField(\"source1\", StringType(), True),\n",
        "          StructField(\"source2\", StringType(), True),\n",
        "          StructField(\"source3\", StringType(), True),\n",
        "          StructField(\"statecode\", StringType(), True),\n",
        "          StructField(\"statepatientnumber\", StringType(), True),\n",
        "          StructField(\"statuschangedate\", DateType(), True),\n",
        "          StructField(\"typeoftransmission\", StringType(), True)\n",
        "])"
      ],
      "execution_count": 21,
      "outputs": []
    },
    {
      "cell_type": "code",
      "metadata": {
        "id": "yr5GcC-2ckKi"
      },
      "source": [
        "covidDF = spark.read.option(\"dateFormat\", \"dd/MM/yyyy\").json(path, schema)"
      ],
      "execution_count": 22,
      "outputs": []
    },
    {
      "cell_type": "code",
      "metadata": {
        "id": "s9u5MHt1z29M",
        "outputId": "63e5c5d9-3ddc-4447-d1c1-f41dd4849c3f",
        "colab": {
          "base_uri": "https://localhost:8080/",
          "height": 34
        }
      },
      "source": [
        "covidDF.count()"
      ],
      "execution_count": 23,
      "outputs": [
        {
          "output_type": "execute_result",
          "data": {
            "text/plain": [
              "28183"
            ]
          },
          "metadata": {
            "tags": []
          },
          "execution_count": 23
        }
      ]
    },
    {
      "cell_type": "code",
      "metadata": {
        "id": "VM87zxK08i8U"
      },
      "source": [
        "covidDF.show()"
      ],
      "execution_count": null,
      "outputs": []
    },
    {
      "cell_type": "code",
      "metadata": {
        "id": "tD0rShy7cyGq",
        "outputId": "eca9bd28-4731-44f0-adb7-77de467beb32",
        "colab": {
          "base_uri": "https://localhost:8080/",
          "height": 54
        }
      },
      "source": [
        "covidDF.printSchema"
      ],
      "execution_count": 25,
      "outputs": [
        {
          "output_type": "execute_result",
          "data": {
            "text/plain": [
              "<bound method DataFrame.printSchema of DataFrame[agebracket: string, backupnotes: string, contractedfromwhichpatientsuspected: string, currentstatus: string, dateannounced: date, detectedcity: string, detecteddistrict: string, detectedstate: string, estimatedonsetdate: string, gender: string, nationality: string, notes: string, numcases: string, patientnumber: string, source1: string, source2: string, source3: string, statecode: string, statepatientnumber: string, statuschangedate: date, typeoftransmission: string]>"
            ]
          },
          "metadata": {
            "tags": []
          },
          "execution_count": 25
        }
      ]
    },
    {
      "cell_type": "markdown",
      "metadata": {
        "id": "nC9CmvOxpz-X"
      },
      "source": [
        "Affected Gender"
      ]
    },
    {
      "cell_type": "code",
      "metadata": {
        "id": "f0f3NTOFnq9o"
      },
      "source": [
        "affectedGendersDF = covidDF.where(col(\"gender\") != \"\")\\\n",
        ".groupby('gender')\\\n",
        ".count()\n",
        "\n",
        "affectedGendersDF.show()"
      ],
      "execution_count": null,
      "outputs": []
    },
    {
      "cell_type": "markdown",
      "metadata": {
        "id": "yHkFn01Yp4j4"
      },
      "source": [
        "Affected City"
      ]
    },
    {
      "cell_type": "code",
      "metadata": {
        "id": "GQXNUupMo3UL"
      },
      "source": [
        "affectedCityDF = covidDF.groupby('detectedcity').count()\\\n",
        ".orderBy(col(\"count\").desc())\\\n",
        ".where(col(\"detectedcity\") != \"\")"
      ],
      "execution_count": 27,
      "outputs": []
    },
    {
      "cell_type": "markdown",
      "metadata": {
        "id": "WLeDUgvtxP_O"
      },
      "source": [
        "Recoverd patient\n"
      ]
    },
    {
      "cell_type": "code",
      "metadata": {
        "id": "avos_picxKhV"
      },
      "source": [
        "covidDF.filter(col('currentstatus')=='Recovered').groupby('detectedcity').count().orderBy(col(\"count\").desc()).where(col(\"detectedcity\") != \"\").show()"
      ],
      "execution_count": null,
      "outputs": []
    },
    {
      "cell_type": "markdown",
      "metadata": {
        "id": "9zVnJO-ijXtU"
      },
      "source": [
        "Affectd Age Group"
      ]
    },
    {
      "cell_type": "code",
      "metadata": {
        "id": "aVMgInF_6AJ8"
      },
      "source": [
        "affectedAgeGroupDF = covidDF.withColumn(\"age\",col(\"agebracket\").cast(\"Integer\"))\\\n",
        ".withColumn(\"agegroup\",when(col(\"age\") < 15,\"Minor\").when(col(\"age\")< 30,\"Young\")\\\n",
        ".when(col(\"age\")< 51,\"Adult\").when(col(\"age\")> 50,\"Older\"))\\\n",
        ".filter(col('agegroup') != \"null\" )\\\n",
        ".groupby('agegroup').count()"
      ],
      "execution_count": 29,
      "outputs": []
    },
    {
      "cell_type": "code",
      "metadata": {
        "id": "EVxWS_3oUN4g"
      },
      "source": [
        "sc = SparkSession.sparkContext"
      ],
      "execution_count": 30,
      "outputs": []
    },
    {
      "cell_type": "code",
      "metadata": {
        "id": "zqGgAV43XrdI"
      },
      "source": [
        "!pip install chart_studio"
      ],
      "execution_count": null,
      "outputs": []
    },
    {
      "cell_type": "code",
      "metadata": {
        "id": "cS0ng5bQXguu"
      },
      "source": [
        "import chart_studio.plotly as py\n",
        "import plotly.graph_objs as go\n",
        "import pandas as pd\n",
        "import requests\n",
        "requests.packages.urllib3.disable_warnings()"
      ],
      "execution_count": 54,
      "outputs": []
    },
    {
      "cell_type": "code",
      "metadata": {
        "id": "Ao1UXU1oYTsi"
      },
      "source": [
        "import plotly.graph_objects as go\n",
        "fig = go.Figure(data=go.Bar(y=pandasBikeDF.d1))\n"
      ],
      "execution_count": null,
      "outputs": []
    },
    {
      "cell_type": "code",
      "metadata": {
        "id": "dkgU8yXhcfMD"
      },
      "source": [
        "gender = affectedGendersDF.toPandas()['gender']\n",
        "count = affectedGendersDF.toPandas()['count']"
      ],
      "execution_count": 87,
      "outputs": []
    },
    {
      "cell_type": "code",
      "metadata": {
        "id": "A4xI3d2icNvs"
      },
      "source": [
        "fig = go.Figure(data=go.Bar(x=gender,y=count))"
      ],
      "execution_count": 88,
      "outputs": []
    },
    {
      "cell_type": "code",
      "metadata": {
        "id": "fOLogFyTc7AJ",
        "outputId": "80b94783-5ba8-42e3-eeb7-4a1c82b74bb8",
        "colab": {
          "base_uri": "https://localhost:8080/",
          "height": 466
        }
      },
      "source": [
        "fig.show(\"png\")"
      ],
      "execution_count": 90,
      "outputs": [
        {
          "output_type": "display_data",
          "data": {
            "image/png": "[encoded data removed]"
          },
          "metadata": {
            "tags": []
          }
        }
      ]
    }
  ]
}