{
  "nbformat": 4,
  "nbformat_minor": 0,
  "metadata": {
    "colab": {
      "name": "Covid Data Visualisation  using Python.ipynb",
      "provenance": [],
      "collapsed_sections": [],
      "mount_file_id": "1XMCRnos-X6OUUEFro4U2MXyxcaO6o5rm",
      "authorship_tag": "ABX9TyMOZKOpUhGaxY274FBM24uT",
      "include_colab_link": true
    },
    "kernelspec": {
      "name": "python3",
      "display_name": "Python 3"
    }
  },
  "cells": [
    {
      "cell_type": "markdown",
      "metadata": {
        "id": "view-in-github",
        "colab_type": "text"
      },
      "source": [
        "<a href=\"https://colab.research.google.com/github/siddhusalvi/Covid-Data-Visualization/blob/Practice/Covid_Data_Visualisation_using_Python.ipynb\" target=\"_parent\"><img src=\"https://colab.research.google.com/assets/colab-badge.svg\" alt=\"Open In Colab\"/></a>"
      ]
    },
    {
      "cell_type": "code",
      "metadata": {
        "id": "fiYaHc1CcQUz",
        "outputId": "87e5c41c-b819-42ab-c22c-0370a57abc50",
        "colab": {
          "base_uri": "https://localhost:8080/",
          "height": 34
        }
      },
      "source": [
        "from google.colab import drive\n",
        "drive.mount('/content/drive/')"
      ],
      "execution_count": 16,
      "outputs": [
        {
          "output_type": "stream",
          "text": [
            "Drive already mounted at /content/drive/; to attempt to forcibly remount, call drive.mount(\"/content/drive/\", force_remount=True).\n"
          ],
          "name": "stdout"
        }
      ]
    },
    {
      "cell_type": "code",
      "metadata": {
        "id": "6B0Mgm1hOGJf"
      },
      "source": [
        "!apt-get update\n",
        "!apt-get install openjdk-8-jdk-headless -qq > /dev/null\n",
        "!wget -q http://archive.apache.org/dist/spark/spark-2.3.1/spark-2.3.1-bin-hadoop2.7.tgz\n",
        "!tar xf spark-2.3.1-bin-hadoop2.7.tgz\n",
        "!pip install -q findspark\n",
        "import os\n",
        "os.environ[\"JAVA_HOME\"] = \"/usr/lib/jvm/java-8-openjdk-amd64\"\n",
        "os.environ[\"SPARK_HOME\"] = \"/content/spark-2.3.1-bin-hadoop2.7\"\n",
        "import findspark\n",
        "findspark.init()\n",
        "import pyspark\n",
        "from pyspark.sql import SparkSession\n",
        "spark = SparkSession.builder.getOrCreate() \n",
        "spark"
      ],
      "execution_count": null,
      "outputs": []
    },
    {
      "cell_type": "code",
      "metadata": {
        "id": "QnKFK4Q4mnqN"
      },
      "source": [
        "!pip install plotly==4.7.1\n",
        "!wget https://github.com/plotly/orca/releases/download/v1.2.1/orca-1.2.1-x86_64.AppImage -O /usr/local/bin/orca\n",
        "!chmod +x /usr/local/bin/orca\n",
        "!apt-get install xvfb libgtk2.0-0 libgconf-2-4\n",
        "import plotly.graph_objects as go"
      ],
      "execution_count": null,
      "outputs": []
    },
    {
      "cell_type": "code",
      "metadata": {
        "id": "57gdMmp2Wx7p"
      },
      "source": [
        "path = '/content/drive/My Drive/Siddhu/data/covidData.json'"
      ],
      "execution_count": 19,
      "outputs": []
    },
    {
      "cell_type": "code",
      "metadata": {
        "id": "OmLSc9x2b0KT"
      },
      "source": [
        "from pyspark.sql.types import ArrayType, StructField, StructType, StringType, IntegerType,DateType\n",
        "from pyspark.sql.functions import col,when"
      ],
      "execution_count": 20,
      "outputs": []
    },
    {
      "cell_type": "code",
      "metadata": {
        "id": "Bkv7eCPtYCYD"
      },
      "source": [
        "schema = StructType([\n",
        "          StructField(\"agebracket\", StringType(), True),\n",
        "          StructField(\"backupnotes\", StringType(), True),\n",
        "          StructField(\"contractedfromwhichpatientsuspected\", StringType(), True),\n",
        "          StructField(\"currentstatus\", StringType(), True),\n",
        "          StructField(\"dateannounced\", DateType(), True),\n",
        "          StructField(\"detectedcity\", StringType(), True),\n",
        "          StructField(\"detecteddistrict\", StringType(), True),\n",
        "          StructField(\"detectedstate\", StringType(), True),\n",
        "          StructField(\"estimatedonsetdate\", StringType(), True),\n",
        "          StructField(\"gender\", StringType(), True),\n",
        "          StructField(\"nationality\", StringType(), True),\n",
        "          StructField(\"notes\", StringType(), True),\n",
        "          StructField(\"numcases\", StringType(), True),\n",
        "          StructField(\"patientnumber\", StringType(), True),\n",
        "          StructField(\"source1\", StringType(), True),\n",
        "          StructField(\"source2\", StringType(), True),\n",
        "          StructField(\"source3\", StringType(), True),\n",
        "          StructField(\"statecode\", StringType(), True),\n",
        "          StructField(\"statepatientnumber\", StringType(), True),\n",
        "          StructField(\"statuschangedate\", DateType(), True),\n",
        "          StructField(\"typeoftransmission\", StringType(), True)\n",
        "])"
      ],
      "execution_count": 21,
      "outputs": []
    },
    {
      "cell_type": "code",
      "metadata": {
        "id": "yr5GcC-2ckKi"
      },
      "source": [
        "covidDF = spark.read.option(\"dateFormat\", \"dd/MM/yyyy\").json(path, schema)"
      ],
      "execution_count": 22,
      "outputs": []
    },
    {
      "cell_type": "code",
      "metadata": {
        "id": "s9u5MHt1z29M",
        "outputId": "63e5c5d9-3ddc-4447-d1c1-f41dd4849c3f",
        "colab": {
          "base_uri": "https://localhost:8080/",
          "height": 34
        }
      },
      "source": [
        "covidDF.count()"
      ],
      "execution_count": 23,
      "outputs": [
        {
          "output_type": "execute_result",
          "data": {
            "text/plain": [
              "28183"
            ]
          },
          "metadata": {
            "tags": []
          },
          "execution_count": 23
        }
      ]
    },
    {
      "cell_type": "code",
      "metadata": {
        "id": "VM87zxK08i8U",
        "outputId": "67b53c66-fb38-4973-9dc4-b31b9b6802d1",
        "colab": {
          "base_uri": "https://localhost:8080/",
          "height": 498
        }
      },
      "source": [
        "covidDF.show()"
      ],
      "execution_count": 24,
      "outputs": [
        {
          "output_type": "stream",
          "text": [
            "+----------+--------------------+-----------------------------------+-------------+-------------+--------------------+----------------+-------------+------------------+------+-----------+--------------------+--------+-------------+--------------------+--------------------+--------------------+---------+------------------+----------------+------------------+\n",
            "|agebracket|         backupnotes|contractedfromwhichpatientsuspected|currentstatus|dateannounced|        detectedcity|detecteddistrict|detectedstate|estimatedonsetdate|gender|nationality|               notes|numcases|patientnumber|             source1|             source2|             source3|statecode|statepatientnumber|statuschangedate|typeoftransmission|\n",
            "+----------+--------------------+-----------------------------------+-------------+-------------+--------------------+----------------+-------------+------------------+------+-----------+--------------------+--------+-------------+--------------------+--------------------+--------------------+---------+------------------+----------------+------------------+\n",
            "|        20|  Student from Wuhan|                                   |    Recovered|   2020-01-30|            Thrissur|        Thrissur|       Kerala|                  |     F|      India|Travelled from Wuhan|       1|            1|https://twitter.c...|https://weather.c...|                    |       KL|          KL-TS-P1|      2020-02-14|          Imported|\n",
            "|          |  Student from Wuhan|                                   |    Recovered|   2020-02-02|           Alappuzha|       Alappuzha|       Kerala|                  |      |      India|Travelled from Wuhan|       1|            2|https://www.india...|https://weather.c...|                    |       KL|          KL-AL-P1|      2020-02-14|          Imported|\n",
            "|          |  Student from Wuhan|                                   |    Recovered|   2020-02-03|           Kasaragod|       Kasaragod|       Kerala|                  |      |      India|Travelled from Wuhan|       1|            3|https://www.india...|https://twitter.c...|https://weather.c...|       KL|          KL-KS-P1|      2020-02-14|          Imported|\n",
            "|        45|Travel history to...|                                   |    Recovered|   2020-03-02|East Delhi (Mayur...|      East Delhi|        Delhi|                  |     M|      India|Travelled from Au...|       1|            4|https://www.india...|https://economict...|                    |       DL|             DL-P1|      2020-03-15|          Imported|\n",
            "|        24|Travel history to...|                                   |    Recovered|   2020-03-02|           Hyderabad|       Hyderabad|    Telangana|                  |     M|      India|Travelled from Du...|       1|            5|https://www.decca...|https://www.india...|https://www.thehi...|       TG|             TS-P1|      2020-03-02|          Imported|\n",
            "|        69|     Italian tourist|                                   |    Recovered|   2020-03-03|              Jaipur|        Italians|    Rajasthan|                  |     M|      Italy|Travelled from Italy|       1|            6|https://indianexp...|https://economict...|https://twitter.c...|       RJ|                  |      2020-03-03|          Imported|\n",
            "|        55|     Italian tourist|                                 P6|    Recovered|   2020-03-04|            Gurugram|        Italians|      Haryana|                  |      |      Italy|Travelled from Italy|       1|            7|https://indianexp...|https://www.india...|                    |       HR|                  |      2020-03-29|          Imported|\n",
            "|        55|     Italian tourist|                                 P6|    Recovered|   2020-03-04|            Gurugram|        Italians|      Haryana|                  |      |      Italy|Travelled from Italy|       1|            8|https://indianexp...|https://www.india...|                    |       HR|                  |      2020-03-29|          Imported|\n",
            "|        55|     Italian tourist|                                 P6|    Recovered|   2020-03-04|            Gurugram|        Italians|      Haryana|                  |      |      Italy|Travelled from Italy|       1|            9|https://indianexp...|https://www.india...|                    |       HR|                  |      2020-03-29|          Imported|\n",
            "|        55|     Italian tourist|                                 P6|    Recovered|   2020-03-04|            Gurugram|        Italians|      Haryana|                  |      |      Italy|Travelled from Italy|       1|           10|https://indianexp...|https://www.india...|                    |       HR|                  |      2020-03-29|          Imported|\n",
            "|        55|     Italian tourist|                                 P6|    Recovered|   2020-03-04|            Gurugram|        Italians|      Haryana|                  |      |      Italy|Travelled from Italy|       1|           11|https://indianexp...|https://www.india...|                    |       HR|                  |      2020-03-29|          Imported|\n",
            "|        55|     Italian tourist|                                 P6|    Recovered|   2020-03-04|            Gurugram|        Italians|      Haryana|                  |      |      Italy|Travelled from Italy|       1|           12|https://indianexp...|https://www.india...|                    |       HR|                  |      2020-03-29|          Imported|\n",
            "|        55|     Italian tourist|                                 P6|    Recovered|   2020-03-04|            Gurugram|        Italians|      Haryana|                  |      |      Italy|Travelled from Italy|       1|           13|https://indianexp...|https://www.india...|                    |       HR|                  |      2020-03-29|          Imported|\n",
            "|        55|     Italian tourist|                                 P6|    Recovered|   2020-03-04|            Gurugram|        Italians|      Haryana|                  |      |      Italy|Travelled from Italy|       1|           14|https://indianexp...|https://www.india...|                    |       HR|                  |      2020-03-29|          Imported|\n",
            "|        55|     Italian tourist|                                 P6|    Recovered|   2020-03-04|            Gurugram|        Italians|      Haryana|                  |      |      Italy|Travelled from Italy|       1|           15|https://indianexp...|https://www.india...|                    |       HR|                  |      2020-03-29|          Imported|\n",
            "|        55|     Italian tourist|                                 P6|    Recovered|   2020-03-04|            Gurugram|        Italians|      Haryana|                  |      |      Italy|Travelled from Italy|       1|           16|https://indianexp...|https://www.india...|                    |       HR|                  |      2020-03-29|          Imported|\n",
            "|        55|     Italian tourist|                                 P6|    Recovered|   2020-03-04|            Gurugram|        Italians|      Haryana|                  |      |      Italy|Travelled from Italy|       1|           17|https://indianexp...|https://www.india...|                    |       HR|                  |      2020-03-29|          Imported|\n",
            "|        55|     Italian tourist|                                 P6|    Recovered|   2020-03-04|            Gurugram|        Italians|      Haryana|                  |      |      Italy|Travelled from Italy|       1|           18|https://indianexp...|https://www.india...|                    |       HR|                  |      2020-03-29|          Imported|\n",
            "|        55|     Italian tourist|                                 P6| Hospitalized|   2020-03-04|            Gurugram|        Italians|      Haryana|                  |      |      Italy|Travelled from Italy|       1|           19|https://indianexp...|https://www.india...|                    |       HR|                  |      2020-03-04|          Imported|\n",
            "|        55|     Italian tourist|                                 P6| Hospitalized|   2020-03-04|            Gurugram|        Italians|      Haryana|                  |      |      Italy|Travelled from Italy|       1|           20|https://indianexp...|https://www.india...|                    |       HR|                  |      2020-03-04|          Imported|\n",
            "+----------+--------------------+-----------------------------------+-------------+-------------+--------------------+----------------+-------------+------------------+------+-----------+--------------------+--------+-------------+--------------------+--------------------+--------------------+---------+------------------+----------------+------------------+\n",
            "only showing top 20 rows\n",
            "\n"
          ],
          "name": "stdout"
        }
      ]
    },
    {
      "cell_type": "code",
      "metadata": {
        "id": "tD0rShy7cyGq",
        "outputId": "eca9bd28-4731-44f0-adb7-77de467beb32",
        "colab": {
          "base_uri": "https://localhost:8080/",
          "height": 54
        }
      },
      "source": [
        "covidDF.printSchema"
      ],
      "execution_count": 25,
      "outputs": [
        {
          "output_type": "execute_result",
          "data": {
            "text/plain": [
              "<bound method DataFrame.printSchema of DataFrame[agebracket: string, backupnotes: string, contractedfromwhichpatientsuspected: string, currentstatus: string, dateannounced: date, detectedcity: string, detecteddistrict: string, detectedstate: string, estimatedonsetdate: string, gender: string, nationality: string, notes: string, numcases: string, patientnumber: string, source1: string, source2: string, source3: string, statecode: string, statepatientnumber: string, statuschangedate: date, typeoftransmission: string]>"
            ]
          },
          "metadata": {
            "tags": []
          },
          "execution_count": 25
        }
      ]
    },
    {
      "cell_type": "markdown",
      "metadata": {
        "id": "nC9CmvOxpz-X"
      },
      "source": [
        "Affected Gender"
      ]
    },
    {
      "cell_type": "code",
      "metadata": {
        "id": "f0f3NTOFnq9o",
        "outputId": "9f774100-d747-4851-e973-a4acd5ba7537",
        "colab": {
          "base_uri": "https://localhost:8080/",
          "height": 141
        }
      },
      "source": [
        "affectedGendersDF = covidDF.where(col(\"gender\") != \"\")\\\n",
        ".groupby('gender')\\\n",
        ".count()\n",
        "\n",
        "affectedGendersDF.show()"
      ],
      "execution_count": 26,
      "outputs": [
        {
          "output_type": "stream",
          "text": [
            "+------+-----+\n",
            "|gender|count|\n",
            "+------+-----+\n",
            "|     F| 1766|\n",
            "|     M| 3547|\n",
            "+------+-----+\n",
            "\n"
          ],
          "name": "stdout"
        }
      ]
    },
    {
      "cell_type": "markdown",
      "metadata": {
        "id": "yHkFn01Yp4j4"
      },
      "source": [
        "Affected City"
      ]
    },
    {
      "cell_type": "code",
      "metadata": {
        "id": "GQXNUupMo3UL"
      },
      "source": [
        "affectedCityDF = covidDF.groupby('detectedcity').count()\\\n",
        ".orderBy(col(\"count\").desc())\\\n",
        ".where(col(\"detectedcity\") != \"\")"
      ],
      "execution_count": 27,
      "outputs": []
    },
    {
      "cell_type": "markdown",
      "metadata": {
        "id": "WLeDUgvtxP_O"
      },
      "source": [
        "Recoverd patient\n"
      ]
    },
    {
      "cell_type": "code",
      "metadata": {
        "id": "avos_picxKhV",
        "outputId": "ca1a8fae-26bf-4993-e31e-126067647325",
        "colab": {
          "base_uri": "https://localhost:8080/",
          "height": 478
        }
      },
      "source": [
        "covidDF.filter(col('currentstatus')=='Recovered').groupby('detectedcity').count().orderBy(col(\"count\").desc()).where(col(\"detectedcity\") != \"\").show()"
      ],
      "execution_count": 28,
      "outputs": [
        {
          "output_type": "stream",
          "text": [
            "+------------+-----+\n",
            "|detectedcity|count|\n",
            "+------------+-----+\n",
            "|   Bengaluru|   23|\n",
            "|    Gurugram|   12|\n",
            "|       Ranni|    7|\n",
            "|       Kochi|    6|\n",
            "|Gauribidanur|    5|\n",
            "|        Agra|    5|\n",
            "|   Mangaluru|    4|\n",
            "|   Nanjangud|    3|\n",
            "|      Raipur|    3|\n",
            "|  Bengaluru |    3|\n",
            "|      Jaipur|    3|\n",
            "|     Kolkata|    2|\n",
            "|   Kasaragod|    2|\n",
            "|     Bhatkal|    2|\n",
            "|    Thrissur|    2|\n",
            "|   Davangere|    2|\n",
            "|    Pilibhit|    2|\n",
            "|      Maradu|    2|\n",
            "|   Chengalam|    2|\n",
            "|        Pune|    2|\n",
            "+------------+-----+\n",
            "only showing top 20 rows\n",
            "\n"
          ],
          "name": "stdout"
        }
      ]
    },
    {
      "cell_type": "markdown",
      "metadata": {
        "id": "9zVnJO-ijXtU"
      },
      "source": [
        "Affectd Age Group"
      ]
    },
    {
      "cell_type": "code",
      "metadata": {
        "id": "aVMgInF_6AJ8"
      },
      "source": [
        "affectedAgeGroupDF = covidDF.withColumn(\"age\",col(\"agebracket\").cast(\"Integer\"))\\\n",
        ".withColumn(\"agegroup\",when(col(\"age\") < 15,\"Minor\").when(col(\"age\")< 30,\"Young\")\\\n",
        ".when(col(\"age\")< 51,\"Adult\").when(col(\"age\")> 50,\"Older\"))\\\n",
        ".filter(col('agegroup') != \"null\" )\\\n",
        ".groupby('agegroup').count()"
      ],
      "execution_count": 29,
      "outputs": []
    },
    {
      "cell_type": "code",
      "metadata": {
        "id": "EVxWS_3oUN4g"
      },
      "source": [
        "sc = SparkSession.sparkContext"
      ],
      "execution_count": 30,
      "outputs": []
    },
    {
      "cell_type": "code",
      "metadata": {
        "id": "zqGgAV43XrdI"
      },
      "source": [
        "!pip install chart_studio"
      ],
      "execution_count": null,
      "outputs": []
    },
    {
      "cell_type": "code",
      "metadata": {
        "id": "cS0ng5bQXguu"
      },
      "source": [
        "import chart_studio.plotly as py\n",
        "import plotly.graph_objs as go\n",
        "import pandas as pd\n",
        "import requests\n",
        "requests.packages.urllib3.disable_warnings()"
      ],
      "execution_count": 54,
      "outputs": []
    },
    {
      "cell_type": "code",
      "metadata": {
        "id": "Ao1UXU1oYTsi"
      },
      "source": [
        "import plotly.graph_objects as go\n",
        "fig = go.Figure(data=go.Bar(y=pandasBikeDF.d1))\n"
      ],
      "execution_count": null,
      "outputs": []
    },
    {
      "cell_type": "code",
      "metadata": {
        "id": "dkgU8yXhcfMD"
      },
      "source": [
        "gender = affectedGendersDF.toPandas()['gender']\n",
        "count = affectedGendersDF.toPandas()['count']"
      ],
      "execution_count": 87,
      "outputs": []
    },
    {
      "cell_type": "code",
      "metadata": {
        "id": "A4xI3d2icNvs"
      },
      "source": [
        "fig = go.Figure(data=go.Bar(x=gender,y=count))"
      ],
      "execution_count": 88,
      "outputs": []
    },
    {
      "cell_type": "code",
      "metadata": {
        "id": "fOLogFyTc7AJ",
        "outputId": "e6ffcc85-0a32-4d33-b81d-7ae59fc1947b",
        "colab": {
          "base_uri": "https://localhost:8080/",
          "height": 542
        }
      },
      "source": [
        "fig.show()"
      ],
      "execution_count": 89,
      "outputs": [
        {
          "output_type": "display_data",
          "data": {
            "text/html": [
              "<html>\n",
              "<head><meta charset=\"utf-8\" /></head>\n",
              "<body>\n",
              "    <div>\n",
              "            <script src=\"https://cdnjs.cloudflare.com/ajax/libs/mathjax/2.7.5/MathJax.js?config=TeX-AMS-MML_SVG\"></script><script type=\"text/javascript\">if (window.MathJax) {MathJax.Hub.Config({SVG: {font: \"STIX-Web\"}});}</script>\n",
              "                <script type=\"text/javascript\">window.PlotlyConfig = {MathJaxConfig: 'local'};</script>\n",
              "        <script src=\"https://cdn.plot.ly/plotly-latest.min.js\"></script>    \n",
              "            <div id=\"8c166caf-83fa-484c-85e7-08b8712d3a9e\" class=\"plotly-graph-div\" style=\"height:525px; width:100%;\"></div>\n",
              "            <script type=\"text/javascript\">\n",
              "                \n",
              "                    window.PLOTLYENV=window.PLOTLYENV || {};\n",
              "                    \n",
              "                if (document.getElementById(\"8c166caf-83fa-484c-85e7-08b8712d3a9e\")) {\n",
              "                    Plotly.newPlot(\n",
              "                        '8c166caf-83fa-484c-85e7-08b8712d3a9e',\n",
              "                        [{\"type\": \"bar\", \"x\": [\"F\", \"M\"], \"y\": [1766, 3547]}],\n",
              "                        {\"template\": {\"data\": {\"bar\": [{\"error_x\": {\"color\": \"#2a3f5f\"}, \"error_y\": {\"color\": \"#2a3f5f\"}, \"marker\": {\"line\": {\"color\": \"#E5ECF6\", \"width\": 0.5}}, \"type\": \"bar\"}], \"barpolar\": [{\"marker\": {\"line\": {\"color\": \"#E5ECF6\", \"width\": 0.5}}, \"type\": \"barpolar\"}], \"carpet\": [{\"aaxis\": {\"endlinecolor\": \"#2a3f5f\", \"gridcolor\": \"white\", \"linecolor\": \"white\", \"minorgridcolor\": \"white\", \"startlinecolor\": \"#2a3f5f\"}, \"baxis\": {\"endlinecolor\": \"#2a3f5f\", \"gridcolor\": \"white\", \"linecolor\": \"white\", \"minorgridcolor\": \"white\", \"startlinecolor\": \"#2a3f5f\"}, \"type\": \"carpet\"}], \"choropleth\": [{\"colorbar\": {\"outlinewidth\": 0, \"ticks\": \"\"}, \"type\": \"choropleth\"}], \"contour\": [{\"colorbar\": {\"outlinewidth\": 0, \"ticks\": \"\"}, \"colorscale\": [[0.0, \"#0d0887\"], [0.1111111111111111, \"#46039f\"], [0.2222222222222222, \"#7201a8\"], [0.3333333333333333, \"#9c179e\"], [0.4444444444444444, \"#bd3786\"], [0.5555555555555556, \"#d8576b\"], [0.6666666666666666, \"#ed7953\"], [0.7777777777777778, \"#fb9f3a\"], [0.8888888888888888, \"#fdca26\"], [1.0, \"#f0f921\"]], \"type\": \"contour\"}], \"contourcarpet\": [{\"colorbar\": {\"outlinewidth\": 0, \"ticks\": \"\"}, \"type\": \"contourcarpet\"}], \"heatmap\": [{\"colorbar\": {\"outlinewidth\": 0, \"ticks\": \"\"}, \"colorscale\": [[0.0, \"#0d0887\"], [0.1111111111111111, \"#46039f\"], [0.2222222222222222, \"#7201a8\"], [0.3333333333333333, \"#9c179e\"], [0.4444444444444444, \"#bd3786\"], [0.5555555555555556, \"#d8576b\"], [0.6666666666666666, \"#ed7953\"], [0.7777777777777778, \"#fb9f3a\"], [0.8888888888888888, \"#fdca26\"], [1.0, \"#f0f921\"]], \"type\": \"heatmap\"}], \"heatmapgl\": [{\"colorbar\": {\"outlinewidth\": 0, \"ticks\": \"\"}, \"colorscale\": [[0.0, \"#0d0887\"], [0.1111111111111111, \"#46039f\"], [0.2222222222222222, \"#7201a8\"], [0.3333333333333333, \"#9c179e\"], [0.4444444444444444, \"#bd3786\"], [0.5555555555555556, \"#d8576b\"], [0.6666666666666666, \"#ed7953\"], [0.7777777777777778, \"#fb9f3a\"], [0.8888888888888888, \"#fdca26\"], [1.0, \"#f0f921\"]], \"type\": \"heatmapgl\"}], \"histogram\": [{\"marker\": {\"colorbar\": {\"outlinewidth\": 0, \"ticks\": \"\"}}, \"type\": \"histogram\"}], \"histogram2d\": [{\"colorbar\": {\"outlinewidth\": 0, \"ticks\": \"\"}, \"colorscale\": [[0.0, \"#0d0887\"], [0.1111111111111111, \"#46039f\"], [0.2222222222222222, \"#7201a8\"], [0.3333333333333333, \"#9c179e\"], [0.4444444444444444, \"#bd3786\"], [0.5555555555555556, \"#d8576b\"], [0.6666666666666666, \"#ed7953\"], [0.7777777777777778, \"#fb9f3a\"], [0.8888888888888888, \"#fdca26\"], [1.0, \"#f0f921\"]], \"type\": \"histogram2d\"}], \"histogram2dcontour\": [{\"colorbar\": {\"outlinewidth\": 0, \"ticks\": \"\"}, \"colorscale\": [[0.0, \"#0d0887\"], [0.1111111111111111, \"#46039f\"], [0.2222222222222222, \"#7201a8\"], [0.3333333333333333, \"#9c179e\"], [0.4444444444444444, \"#bd3786\"], [0.5555555555555556, \"#d8576b\"], [0.6666666666666666, \"#ed7953\"], [0.7777777777777778, \"#fb9f3a\"], [0.8888888888888888, \"#fdca26\"], [1.0, \"#f0f921\"]], \"type\": \"histogram2dcontour\"}], \"mesh3d\": [{\"colorbar\": {\"outlinewidth\": 0, \"ticks\": \"\"}, \"type\": \"mesh3d\"}], \"parcoords\": [{\"line\": {\"colorbar\": {\"outlinewidth\": 0, \"ticks\": \"\"}}, \"type\": \"parcoords\"}], \"pie\": [{\"automargin\": true, \"type\": \"pie\"}], \"scatter\": [{\"marker\": {\"colorbar\": {\"outlinewidth\": 0, \"ticks\": \"\"}}, \"type\": \"scatter\"}], \"scatter3d\": [{\"line\": {\"colorbar\": {\"outlinewidth\": 0, \"ticks\": \"\"}}, \"marker\": {\"colorbar\": {\"outlinewidth\": 0, \"ticks\": \"\"}}, \"type\": \"scatter3d\"}], \"scattercarpet\": [{\"marker\": {\"colorbar\": {\"outlinewidth\": 0, \"ticks\": \"\"}}, \"type\": \"scattercarpet\"}], \"scattergeo\": [{\"marker\": {\"colorbar\": {\"outlinewidth\": 0, \"ticks\": \"\"}}, \"type\": \"scattergeo\"}], \"scattergl\": [{\"marker\": {\"colorbar\": {\"outlinewidth\": 0, \"ticks\": \"\"}}, \"type\": \"scattergl\"}], \"scattermapbox\": [{\"marker\": {\"colorbar\": {\"outlinewidth\": 0, \"ticks\": \"\"}}, \"type\": \"scattermapbox\"}], \"scatterpolar\": [{\"marker\": {\"colorbar\": {\"outlinewidth\": 0, \"ticks\": \"\"}}, \"type\": \"scatterpolar\"}], \"scatterpolargl\": [{\"marker\": {\"colorbar\": {\"outlinewidth\": 0, \"ticks\": \"\"}}, \"type\": \"scatterpolargl\"}], \"scatterternary\": [{\"marker\": {\"colorbar\": {\"outlinewidth\": 0, \"ticks\": \"\"}}, \"type\": \"scatterternary\"}], \"surface\": [{\"colorbar\": {\"outlinewidth\": 0, \"ticks\": \"\"}, \"colorscale\": [[0.0, \"#0d0887\"], [0.1111111111111111, \"#46039f\"], [0.2222222222222222, \"#7201a8\"], [0.3333333333333333, \"#9c179e\"], [0.4444444444444444, \"#bd3786\"], [0.5555555555555556, \"#d8576b\"], [0.6666666666666666, \"#ed7953\"], [0.7777777777777778, \"#fb9f3a\"], [0.8888888888888888, \"#fdca26\"], [1.0, \"#f0f921\"]], \"type\": \"surface\"}], \"table\": [{\"cells\": {\"fill\": {\"color\": \"#EBF0F8\"}, \"line\": {\"color\": \"white\"}}, \"header\": {\"fill\": {\"color\": \"#C8D4E3\"}, \"line\": {\"color\": \"white\"}}, \"type\": \"table\"}]}, \"layout\": {\"annotationdefaults\": {\"arrowcolor\": \"#2a3f5f\", \"arrowhead\": 0, \"arrowwidth\": 1}, \"coloraxis\": {\"colorbar\": {\"outlinewidth\": 0, \"ticks\": \"\"}}, \"colorscale\": {\"diverging\": [[0, \"#8e0152\"], [0.1, \"#c51b7d\"], [0.2, \"#de77ae\"], [0.3, \"#f1b6da\"], [0.4, \"#fde0ef\"], [0.5, \"#f7f7f7\"], [0.6, \"#e6f5d0\"], [0.7, \"#b8e186\"], [0.8, \"#7fbc41\"], [0.9, \"#4d9221\"], [1, \"#276419\"]], \"sequential\": [[0.0, \"#0d0887\"], [0.1111111111111111, \"#46039f\"], [0.2222222222222222, \"#7201a8\"], [0.3333333333333333, \"#9c179e\"], [0.4444444444444444, \"#bd3786\"], [0.5555555555555556, \"#d8576b\"], [0.6666666666666666, \"#ed7953\"], [0.7777777777777778, \"#fb9f3a\"], [0.8888888888888888, \"#fdca26\"], [1.0, \"#f0f921\"]], \"sequentialminus\": [[0.0, \"#0d0887\"], [0.1111111111111111, \"#46039f\"], [0.2222222222222222, \"#7201a8\"], [0.3333333333333333, \"#9c179e\"], [0.4444444444444444, \"#bd3786\"], [0.5555555555555556, \"#d8576b\"], [0.6666666666666666, \"#ed7953\"], [0.7777777777777778, \"#fb9f3a\"], [0.8888888888888888, \"#fdca26\"], [1.0, \"#f0f921\"]]}, \"colorway\": [\"#636efa\", \"#EF553B\", \"#00cc96\", \"#ab63fa\", \"#FFA15A\", \"#19d3f3\", \"#FF6692\", \"#B6E880\", \"#FF97FF\", \"#FECB52\"], \"font\": {\"color\": \"#2a3f5f\"}, \"geo\": {\"bgcolor\": \"white\", \"lakecolor\": \"white\", \"landcolor\": \"#E5ECF6\", \"showlakes\": true, \"showland\": true, \"subunitcolor\": \"white\"}, \"hoverlabel\": {\"align\": \"left\"}, \"hovermode\": \"closest\", \"mapbox\": {\"style\": \"light\"}, \"paper_bgcolor\": \"white\", \"plot_bgcolor\": \"#E5ECF6\", \"polar\": {\"angularaxis\": {\"gridcolor\": \"white\", \"linecolor\": \"white\", \"ticks\": \"\"}, \"bgcolor\": \"#E5ECF6\", \"radialaxis\": {\"gridcolor\": \"white\", \"linecolor\": \"white\", \"ticks\": \"\"}}, \"scene\": {\"xaxis\": {\"backgroundcolor\": \"#E5ECF6\", \"gridcolor\": \"white\", \"gridwidth\": 2, \"linecolor\": \"white\", \"showbackground\": true, \"ticks\": \"\", \"zerolinecolor\": \"white\"}, \"yaxis\": {\"backgroundcolor\": \"#E5ECF6\", \"gridcolor\": \"white\", \"gridwidth\": 2, \"linecolor\": \"white\", \"showbackground\": true, \"ticks\": \"\", \"zerolinecolor\": \"white\"}, \"zaxis\": {\"backgroundcolor\": \"#E5ECF6\", \"gridcolor\": \"white\", \"gridwidth\": 2, \"linecolor\": \"white\", \"showbackground\": true, \"ticks\": \"\", \"zerolinecolor\": \"white\"}}, \"shapedefaults\": {\"line\": {\"color\": \"#2a3f5f\"}}, \"ternary\": {\"aaxis\": {\"gridcolor\": \"white\", \"linecolor\": \"white\", \"ticks\": \"\"}, \"baxis\": {\"gridcolor\": \"white\", \"linecolor\": \"white\", \"ticks\": \"\"}, \"bgcolor\": \"#E5ECF6\", \"caxis\": {\"gridcolor\": \"white\", \"linecolor\": \"white\", \"ticks\": \"\"}}, \"title\": {\"x\": 0.05}, \"xaxis\": {\"automargin\": true, \"gridcolor\": \"white\", \"linecolor\": \"white\", \"ticks\": \"\", \"title\": {\"standoff\": 15}, \"zerolinecolor\": \"white\", \"zerolinewidth\": 2}, \"yaxis\": {\"automargin\": true, \"gridcolor\": \"white\", \"linecolor\": \"white\", \"ticks\": \"\", \"title\": {\"standoff\": 15}, \"zerolinecolor\": \"white\", \"zerolinewidth\": 2}}}},\n",
              "                        {\"responsive\": true}\n",
              "                    ).then(function(){\n",
              "                            \n",
              "var gd = document.getElementById('8c166caf-83fa-484c-85e7-08b8712d3a9e');\n",
              "var x = new MutationObserver(function (mutations, observer) {{\n",
              "        var display = window.getComputedStyle(gd).display;\n",
              "        if (!display || display === 'none') {{\n",
              "            console.log([gd, 'removed!']);\n",
              "            Plotly.purge(gd);\n",
              "            observer.disconnect();\n",
              "        }}\n",
              "}});\n",
              "\n",
              "// Listen for the removal of the full notebook cells\n",
              "var notebookContainer = gd.closest('#notebook-container');\n",
              "if (notebookContainer) {{\n",
              "    x.observe(notebookContainer, {childList: true});\n",
              "}}\n",
              "\n",
              "// Listen for the clearing of the current output cell\n",
              "var outputEl = gd.closest('.output');\n",
              "if (outputEl) {{\n",
              "    x.observe(outputEl, {childList: true});\n",
              "}}\n",
              "\n",
              "                        })\n",
              "                };\n",
              "                \n",
              "            </script>\n",
              "        </div>\n",
              "</body>\n",
              "</html>"
            ]
          },
          "metadata": {
            "tags": []
          }
        }
      ]
    }
  ]
}