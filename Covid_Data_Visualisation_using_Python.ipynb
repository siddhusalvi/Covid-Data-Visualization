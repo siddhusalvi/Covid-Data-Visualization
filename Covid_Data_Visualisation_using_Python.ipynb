{
  "nbformat": 4,
  "nbformat_minor": 0,
  "metadata": {
    "colab": {
      "name": "Covid Data Visualisation  using Python.ipynb",
      "provenance": [],
      "collapsed_sections": [],
      "mount_file_id": "1XMCRnos-X6OUUEFro4U2MXyxcaO6o5rm",
      "authorship_tag": "ABX9TyP/E/G9notjGLZRwMw/QFvy",
      "include_colab_link": true
    },
    "kernelspec": {
      "name": "python3",
      "display_name": "Python 3"
    }
  },
  "cells": [
    {
      "cell_type": "markdown",
      "metadata": {
        "id": "view-in-github",
        "colab_type": "text"
      },
      "source": [
        "<a href=\"https://colab.research.google.com/github/siddhusalvi/Covid-Data-Visualization/blob/master/Covid_Data_Visualisation_using_Python.ipynb\" target=\"_parent\"><img src=\"https://colab.research.google.com/assets/colab-badge.svg\" alt=\"Open In Colab\"/></a>"
      ]
    },
    {
      "cell_type": "markdown",
      "metadata": {
        "id": "xfjpqtLVUeix"
      },
      "source": [
        "### File System and Spark Setup\n"
      ]
    },
    {
      "cell_type": "code",
      "metadata": {
        "id": "fiYaHc1CcQUz"
      },
      "source": [
        "from google.colab import drive\n",
        "drive.mount('/content/drive/')"
      ],
      "execution_count": null,
      "outputs": []
    },
    {
      "cell_type": "code",
      "metadata": {
        "id": "6B0Mgm1hOGJf"
      },
      "source": [
        "!apt-get update\n",
        "!apt-get install openjdk-8-jdk-headless -qq > /dev/null\n",
        "!wget -q http://archive.apache.org/dist/spark/spark-2.3.1/spark-2.3.1-bin-hadoop2.7.tgz\n",
        "!tar xf spark-2.3.1-bin-hadoop2.7.tgz\n",
        "!pip install -q findspark\n",
        "import os\n",
        "os.environ[\"JAVA_HOME\"] = \"/usr/lib/jvm/java-8-openjdk-amd64\"\n",
        "os.environ[\"SPARK_HOME\"] = \"/content/spark-2.3.1-bin-hadoop2.7\"\n",
        "import findspark\n",
        "findspark.init()\n",
        "import pyspark\n",
        "from pyspark.sql import SparkSession\n",
        "spark = SparkSession.builder.getOrCreate() \n",
        "spark"
      ],
      "execution_count": null,
      "outputs": []
    },
    {
      "cell_type": "markdown",
      "metadata": {
        "id": "cpi73aRHPbmG"
      },
      "source": [
        "### Plotly Setup"
      ]
    },
    {
      "cell_type": "code",
      "metadata": {
        "id": "QnKFK4Q4mnqN"
      },
      "source": [
        "!pip install plotly==4.7.1\n",
        "!wget https://github.com/plotly/orca/releases/download/v1.2.1/orca-1.2.1-x86_64.AppImage -O /usr/local/bin/orca\n",
        "!chmod +x /usr/local/bin/orca\n",
        "!apt-get install xvfb libgtk2.0-0 libgconf-2-4\n",
        "import plotly.graph_objects as go"
      ],
      "execution_count": null,
      "outputs": []
    },
    {
      "cell_type": "markdown",
      "metadata": {
        "id": "Xt4V_3QfWV0Z"
      },
      "source": [
        "### DataFrame and SQL Operations\n",
        "\n"
      ]
    },
    {
      "cell_type": "code",
      "metadata": {
        "id": "57gdMmp2Wx7p"
      },
      "source": [
        "path = '/content/drive/My Drive/Siddhu/data/covidData.json'"
      ],
      "execution_count": 5,
      "outputs": []
    },
    {
      "cell_type": "code",
      "metadata": {
        "id": "OmLSc9x2b0KT"
      },
      "source": [
        "from pyspark.sql.types import ArrayType, StructField, StructType, StringType, IntegerType,DateType\n",
        "from pyspark.sql.functions import col,when"
      ],
      "execution_count": 6,
      "outputs": []
    },
    {
      "cell_type": "code",
      "metadata": {
        "id": "Bkv7eCPtYCYD"
      },
      "source": [
        "schema = StructType([\n",
        "          StructField(\"agebracket\", StringType(), True),\n",
        "          StructField(\"backupnotes\", StringType(), True),\n",
        "          StructField(\"contractedfromwhichpatientsuspected\", StringType(), True),\n",
        "          StructField(\"currentstatus\", StringType(), True),\n",
        "          StructField(\"dateannounced\", DateType(), True),\n",
        "          StructField(\"detectedcity\", StringType(), True),\n",
        "          StructField(\"detecteddistrict\", StringType(), True),\n",
        "          StructField(\"detectedstate\", StringType(), True),\n",
        "          StructField(\"estimatedonsetdate\", StringType(), True),\n",
        "          StructField(\"gender\", StringType(), True),\n",
        "          StructField(\"nationality\", StringType(), True),\n",
        "          StructField(\"notes\", StringType(), True),\n",
        "          StructField(\"numcases\", StringType(), True),\n",
        "          StructField(\"patientnumber\", StringType(), True),\n",
        "          StructField(\"source1\", StringType(), True),\n",
        "          StructField(\"source2\", StringType(), True),\n",
        "          StructField(\"source3\", StringType(), True),\n",
        "          StructField(\"statecode\", StringType(), True),\n",
        "          StructField(\"statepatientnumber\", StringType(), True),\n",
        "          StructField(\"statuschangedate\", DateType(), True),\n",
        "          StructField(\"typeoftransmission\", StringType(), True)\n",
        "])"
      ],
      "execution_count": 7,
      "outputs": []
    },
    {
      "cell_type": "code",
      "metadata": {
        "id": "yr5GcC-2ckKi"
      },
      "source": [
        "covidDF = spark.read.option(\"dateFormat\", \"dd/MM/yyyy\").json(path, schema)"
      ],
      "execution_count": 8,
      "outputs": []
    },
    {
      "cell_type": "code",
      "metadata": {
        "id": "s9u5MHt1z29M",
        "outputId": "3b6ed1fc-82bd-463b-ef42-b4dd0cde550c",
        "colab": {
          "base_uri": "https://localhost:8080/",
          "height": 34
        }
      },
      "source": [
        "covidDF.count()"
      ],
      "execution_count": 9,
      "outputs": [
        {
          "output_type": "execute_result",
          "data": {
            "text/plain": [
              "28183"
            ]
          },
          "metadata": {
            "tags": []
          },
          "execution_count": 9
        }
      ]
    },
    {
      "cell_type": "code",
      "metadata": {
        "id": "VM87zxK08i8U"
      },
      "source": [
        "covidDF.show()"
      ],
      "execution_count": null,
      "outputs": []
    },
    {
      "cell_type": "code",
      "metadata": {
        "id": "tD0rShy7cyGq",
        "outputId": "754c429c-4b0a-449e-c281-0cac1b6fef60",
        "colab": {
          "base_uri": "https://localhost:8080/",
          "height": 54
        }
      },
      "source": [
        "covidDF.printSchema"
      ],
      "execution_count": 11,
      "outputs": [
        {
          "output_type": "execute_result",
          "data": {
            "text/plain": [
              "<bound method DataFrame.printSchema of DataFrame[agebracket: string, backupnotes: string, contractedfromwhichpatientsuspected: string, currentstatus: string, dateannounced: date, detectedcity: string, detecteddistrict: string, detectedstate: string, estimatedonsetdate: string, gender: string, nationality: string, notes: string, numcases: string, patientnumber: string, source1: string, source2: string, source3: string, statecode: string, statepatientnumber: string, statuschangedate: date, typeoftransmission: string]>"
            ]
          },
          "metadata": {
            "tags": []
          },
          "execution_count": 11
        }
      ]
    },
    {
      "cell_type": "markdown",
      "metadata": {
        "id": "nC9CmvOxpz-X"
      },
      "source": [
        "#### Infected Gender\n"
      ]
    },
    {
      "cell_type": "code",
      "metadata": {
        "id": "f0f3NTOFnq9o"
      },
      "source": [
        "def getGenderData(dataframe,columnName):\n",
        "  return dataframe.groupby(columnName).count() "
      ],
      "execution_count": 12,
      "outputs": []
    },
    {
      "cell_type": "code",
      "metadata": {
        "id": "wv_6wBZT_3y2",
        "outputId": "4aa1e6df-30f5-48a2-d861-91a33e7e24f3",
        "colab": {
          "base_uri": "https://localhost:8080/",
          "height": 158
        }
      },
      "source": [
        "columnName = 'gender'\n",
        "getGenderData(covidDF,columnName).show()"
      ],
      "execution_count": 15,
      "outputs": [
        {
          "output_type": "stream",
          "text": [
            "+------+-----+\n",
            "|gender|count|\n",
            "+------+-----+\n",
            "|     F| 1766|\n",
            "|     M| 3547|\n",
            "|      |22870|\n",
            "+------+-----+\n",
            "\n"
          ],
          "name": "stdout"
        }
      ]
    },
    {
      "cell_type": "markdown",
      "metadata": {
        "id": "yHkFn01Yp4j4"
      },
      "source": [
        "#### Infected Patient by cities\n",
        "\n"
      ]
    },
    {
      "cell_type": "code",
      "metadata": {
        "id": "w-gjFL4BBU62"
      },
      "source": [
        "def getPatientsByCity(dataframe,columnName):\n",
        "  return dataframe.groupby(columnName).count().orderBy(col(\"count\").desc()).where(col(columnName) != \"\")"
      ],
      "execution_count": 16,
      "outputs": []
    },
    {
      "cell_type": "code",
      "metadata": {
        "id": "GQXNUupMo3UL",
        "outputId": "38c62615-4822-4574-e3eb-bd856fe6dc8f",
        "colab": {
          "base_uri": "https://localhost:8080/",
          "height": 212
        }
      },
      "source": [
        "columnName = 'detectedcity'\n",
        "getPatientsByCity(covidDF,columnName).show(5)"
      ],
      "execution_count": 19,
      "outputs": [
        {
          "output_type": "stream",
          "text": [
            "+------------+-----+\n",
            "|detectedcity|count|\n",
            "+------------+-----+\n",
            "|       Thane|  108|\n",
            "|        MCGM|  108|\n",
            "| Navi Mumbai|   71|\n",
            "|         PMC|   69|\n",
            "| Vasai-Virar|   61|\n",
            "+------------+-----+\n",
            "only showing top 5 rows\n",
            "\n"
          ],
          "name": "stdout"
        }
      ]
    },
    {
      "cell_type": "markdown",
      "metadata": {
        "id": "WLeDUgvtxP_O"
      },
      "source": [
        "#### Recovered Patient by cities\n",
        "\n"
      ]
    },
    {
      "cell_type": "code",
      "metadata": {
        "id": "T5eyRzUwCyc5"
      },
      "source": [
        "def getRecoveredPatientsByCity(dataframe,columnName,city,status):\n",
        "  return dataframe.filter(col(columnName)==columnStatus).groupby(city).count().orderBy(col(\"count\").desc()).where(col(city) != \"\")"
      ],
      "execution_count": 23,
      "outputs": []
    },
    {
      "cell_type": "code",
      "metadata": {
        "id": "XpgQJ6FmCzFd"
      },
      "source": [
        "columnName = 'currentstatus'\n",
        "columnStatus = 'Recovered'\n",
        "city = 'detectedcity'"
      ],
      "execution_count": 24,
      "outputs": []
    },
    {
      "cell_type": "code",
      "metadata": {
        "id": "_DtmU4JYEZ3H",
        "outputId": "f5434486-e56f-4aab-8be5-28feec5eaf06",
        "colab": {
          "base_uri": "https://localhost:8080/",
          "height": 212
        }
      },
      "source": [
        "getRecoveredPatientsByCity(covidDF,columnName,city,columnStatus).show(5)"
      ],
      "execution_count": 26,
      "outputs": [
        {
          "output_type": "stream",
          "text": [
            "+------------+-----+\n",
            "|detectedcity|count|\n",
            "+------------+-----+\n",
            "|   Bengaluru|   23|\n",
            "|    Gurugram|   12|\n",
            "|       Ranni|    7|\n",
            "|       Kochi|    6|\n",
            "|Gauribidanur|    5|\n",
            "+------------+-----+\n",
            "only showing top 5 rows\n",
            "\n"
          ],
          "name": "stdout"
        }
      ]
    },
    {
      "cell_type": "markdown",
      "metadata": {
        "id": "veCnA0x-bFK9"
      },
      "source": [
        "####Spliting Patients into AgeGroups\n",
        "\n",
        "\n"
      ]
    },
    {
      "cell_type": "code",
      "metadata": {
        "id": "xtFy9wAHGlAy"
      },
      "source": [
        "def getAgeGroupCount(dataframe,ageColumn):\n",
        "  return dataframe.withColumn(\"age\",col(ageColumn).cast(\"Integer\"))\\\n",
        "  .withColumn(\"agegroup\",when(col(\"age\") < 15 ,\"Minor\").when((col('age') > 14) & (col(\"age\")< 31),\"Young\").when((col('age') > 30) & (col(\"age\")< 51),\"Adult\").when(col(\"age\")> 50,\"Older\"))\\\n",
        "  .filter(col('agegroup') != \"null\" )\\\n",
        "  .groupby('agegroup').count()"
      ],
      "execution_count": 29,
      "outputs": []
    },
    {
      "cell_type": "code",
      "metadata": {
        "id": "ht_WL0IiH0bl",
        "outputId": "62161c4f-a2cc-4f2d-d0f9-7db9124263f4",
        "colab": {
          "base_uri": "https://localhost:8080/",
          "height": 176
        }
      },
      "source": [
        "columnName = 'agebracket'\n",
        "getAgeGroupCount(covidDF,columnName).show()"
      ],
      "execution_count": 30,
      "outputs": [
        {
          "output_type": "stream",
          "text": [
            "+--------+-----+\n",
            "|agegroup|count|\n",
            "+--------+-----+\n",
            "|   Older|  584|\n",
            "|   Minor|  161|\n",
            "|   Adult|  920|\n",
            "|   Young|  677|\n",
            "+--------+-----+\n",
            "\n"
          ],
          "name": "stdout"
        }
      ]
    }
  ]
}