{
  "nbformat": 4,
  "nbformat_minor": 0,
  "metadata": {
    "colab": {
      "name": "Covid Data Visualisation  using Python.ipynb",
      "provenance": [],
      "collapsed_sections": [],
      "mount_file_id": "1XMCRnos-X6OUUEFro4U2MXyxcaO6o5rm",
      "authorship_tag": "ABX9TyNDmCROU4NjXvxo9EV7yrqF",
      "include_colab_link": true
    },
    "kernelspec": {
      "name": "python3",
      "display_name": "Python 3"
    }
  },
  "cells": [
    {
      "cell_type": "markdown",
      "metadata": {
        "id": "view-in-github",
        "colab_type": "text"
      },
      "source": [
        "<a href=\"https://colab.research.google.com/github/siddhusalvi/Covid-Data-Visualization/blob/Practice/Covid_Data_Visualisation_using_Python.ipynb\" target=\"_parent\"><img src=\"https://colab.research.google.com/assets/colab-badge.svg\" alt=\"Open In Colab\"/></a>"
      ]
    },
    {
      "cell_type": "code",
      "metadata": {
        "id": "fiYaHc1CcQUz",
        "outputId": "7574f35b-af9b-4c2b-fdf0-426720164ca2",
        "colab": {
          "base_uri": "https://localhost:8080/",
          "height": 34
        }
      },
      "source": [
        "from google.colab import drive\n",
        "drive.mount('/content/drive/')"
      ],
      "execution_count": 142,
      "outputs": [
        {
          "output_type": "stream",
          "text": [
            "Drive already mounted at /content/drive/; to attempt to forcibly remount, call drive.mount(\"/content/drive/\", force_remount=True).\n"
          ],
          "name": "stdout"
        }
      ]
    },
    {
      "cell_type": "code",
      "metadata": {
        "id": "6B0Mgm1hOGJf"
      },
      "source": [
        "!apt-get update\n",
        "!apt-get install openjdk-8-jdk-headless -qq > /dev/null\n",
        "!wget -q http://archive.apache.org/dist/spark/spark-2.3.1/spark-2.3.1-bin-hadoop2.7.tgz\n",
        "!tar xf spark-2.3.1-bin-hadoop2.7.tgz\n",
        "!pip install -q findspark\n",
        "import os\n",
        "os.environ[\"JAVA_HOME\"] = \"/usr/lib/jvm/java-8-openjdk-amd64\"\n",
        "os.environ[\"SPARK_HOME\"] = \"/content/spark-2.3.1-bin-hadoop2.7\"\n",
        "import findspark\n",
        "findspark.init()\n",
        "import pyspark\n",
        "from pyspark.sql import SparkSession\n",
        "spark = SparkSession.builder.getOrCreate() \n",
        "spark"
      ],
      "execution_count": null,
      "outputs": []
    },
    {
      "cell_type": "code",
      "metadata": {
        "id": "QnKFK4Q4mnqN"
      },
      "source": [
        "!pip install plotly==4.7.1\n",
        "!wget https://github.com/plotly/orca/releases/download/v1.2.1/orca-1.2.1-x86_64.AppImage -O /usr/local/bin/orca\n",
        "!chmod +x /usr/local/bin/orca\n",
        "!apt-get install xvfb libgtk2.0-0 libgconf-2-4\n",
        "import plotly.graph_objects as go"
      ],
      "execution_count": null,
      "outputs": []
    },
    {
      "cell_type": "code",
      "metadata": {
        "id": "57gdMmp2Wx7p"
      },
      "source": [
        "path = '/content/drive/My Drive/Siddhu/data/covidData.json'"
      ],
      "execution_count": 145,
      "outputs": []
    },
    {
      "cell_type": "code",
      "metadata": {
        "id": "OmLSc9x2b0KT"
      },
      "source": [
        "from pyspark.sql.types import ArrayType, StructField, StructType, StringType, IntegerType,DateType\n",
        "from pyspark.sql.functions import col,when"
      ],
      "execution_count": 146,
      "outputs": []
    },
    {
      "cell_type": "code",
      "metadata": {
        "id": "Bkv7eCPtYCYD"
      },
      "source": [
        "schema = StructType([\n",
        "          StructField(\"agebracket\", StringType(), True),\n",
        "          StructField(\"backupnotes\", StringType(), True),\n",
        "          StructField(\"contractedfromwhichpatientsuspected\", StringType(), True),\n",
        "          StructField(\"currentstatus\", StringType(), True),\n",
        "          StructField(\"dateannounced\", DateType(), True),\n",
        "          StructField(\"detectedcity\", StringType(), True),\n",
        "          StructField(\"detecteddistrict\", StringType(), True),\n",
        "          StructField(\"detectedstate\", StringType(), True),\n",
        "          StructField(\"estimatedonsetdate\", StringType(), True),\n",
        "          StructField(\"gender\", StringType(), True),\n",
        "          StructField(\"nationality\", StringType(), True),\n",
        "          StructField(\"notes\", StringType(), True),\n",
        "          StructField(\"numcases\", StringType(), True),\n",
        "          StructField(\"patientnumber\", StringType(), True),\n",
        "          StructField(\"source1\", StringType(), True),\n",
        "          StructField(\"source2\", StringType(), True),\n",
        "          StructField(\"source3\", StringType(), True),\n",
        "          StructField(\"statecode\", StringType(), True),\n",
        "          StructField(\"statepatientnumber\", StringType(), True),\n",
        "          StructField(\"statuschangedate\", DateType(), True),\n",
        "          StructField(\"typeoftransmission\", StringType(), True)\n",
        "])"
      ],
      "execution_count": 147,
      "outputs": []
    },
    {
      "cell_type": "code",
      "metadata": {
        "id": "yr5GcC-2ckKi"
      },
      "source": [
        "covidDF = spark.read.option(\"dateFormat\", \"dd/MM/yyyy\").json(path, schema)"
      ],
      "execution_count": 148,
      "outputs": []
    },
    {
      "cell_type": "code",
      "metadata": {
        "id": "s9u5MHt1z29M",
        "outputId": "6ba133cb-2005-47d2-982e-d0db945a4257",
        "colab": {
          "base_uri": "https://localhost:8080/",
          "height": 34
        }
      },
      "source": [
        "covidDF.count()"
      ],
      "execution_count": 149,
      "outputs": [
        {
          "output_type": "execute_result",
          "data": {
            "text/plain": [
              "28183"
            ]
          },
          "metadata": {
            "tags": []
          },
          "execution_count": 149
        }
      ]
    },
    {
      "cell_type": "code",
      "metadata": {
        "id": "VM87zxK08i8U"
      },
      "source": [
        "covidDF.show()"
      ],
      "execution_count": null,
      "outputs": []
    },
    {
      "cell_type": "code",
      "metadata": {
        "id": "tD0rShy7cyGq",
        "outputId": "e96af6c8-7600-49ae-be4f-170912076a04",
        "colab": {
          "base_uri": "https://localhost:8080/",
          "height": 54
        }
      },
      "source": [
        "covidDF.printSchema"
      ],
      "execution_count": 151,
      "outputs": [
        {
          "output_type": "execute_result",
          "data": {
            "text/plain": [
              "<bound method DataFrame.printSchema of DataFrame[agebracket: string, backupnotes: string, contractedfromwhichpatientsuspected: string, currentstatus: string, dateannounced: date, detectedcity: string, detecteddistrict: string, detectedstate: string, estimatedonsetdate: string, gender: string, nationality: string, notes: string, numcases: string, patientnumber: string, source1: string, source2: string, source3: string, statecode: string, statepatientnumber: string, statuschangedate: date, typeoftransmission: string]>"
            ]
          },
          "metadata": {
            "tags": []
          },
          "execution_count": 151
        }
      ]
    },
    {
      "cell_type": "markdown",
      "metadata": {
        "id": "nC9CmvOxpz-X"
      },
      "source": [
        "Affected Gender"
      ]
    },
    {
      "cell_type": "code",
      "metadata": {
        "id": "f0f3NTOFnq9o"
      },
      "source": [
        "affectedGendersDF = covidDF.where(col(\"gender\") != \"\")\\\n",
        ".groupby('gender')\\\n",
        ".count()\n",
        "\n",
        "affectedGendersDF.show()"
      ],
      "execution_count": null,
      "outputs": []
    },
    {
      "cell_type": "markdown",
      "metadata": {
        "id": "yHkFn01Yp4j4"
      },
      "source": [
        "Affected City"
      ]
    },
    {
      "cell_type": "code",
      "metadata": {
        "id": "GQXNUupMo3UL"
      },
      "source": [
        "affectedCityDF = covidDF.groupby('detectedcity').count()\\\n",
        ".orderBy(col(\"count\").desc())\\\n",
        ".where(col(\"detectedcity\") != \"\")"
      ],
      "execution_count": 153,
      "outputs": []
    },
    {
      "cell_type": "markdown",
      "metadata": {
        "id": "WLeDUgvtxP_O"
      },
      "source": [
        "Recoverd patient\n"
      ]
    },
    {
      "cell_type": "code",
      "metadata": {
        "id": "avos_picxKhV"
      },
      "source": [
        "covidDF.filter(col('currentstatus')=='Recovered').groupby('detectedcity').count().orderBy(col(\"count\").desc()).where(col(\"detectedcity\") != \"\").show()"
      ],
      "execution_count": null,
      "outputs": []
    },
    {
      "cell_type": "markdown",
      "metadata": {
        "id": "9zVnJO-ijXtU"
      },
      "source": [
        "Affectd Age Group"
      ]
    },
    {
      "cell_type": "code",
      "metadata": {
        "id": "aVMgInF_6AJ8"
      },
      "source": [
        "affectedAgeGroupDF = covidDF.withColumn(\"age\",col(\"agebracket\").cast(\"Integer\"))\\\n",
        ".withColumn(\"agegroup\",when(col(\"age\") < 15,\"Minor\").when(col(\"age\")< 30,\"Young\")\\\n",
        ".when(col(\"age\")< 51,\"Adult\").when(col(\"age\")> 50,\"Older\"))\\\n",
        ".filter(col('agegroup') != \"null\" )\\\n",
        ".groupby('agegroup').count()"
      ],
      "execution_count": 155,
      "outputs": []
    },
    {
      "cell_type": "code",
      "metadata": {
        "id": "OURJtTJ_e-BD"
      },
      "source": [
        "affectedAgeGroupDF.show()"
      ],
      "execution_count": null,
      "outputs": []
    },
    {
      "cell_type": "code",
      "metadata": {
        "id": "EVxWS_3oUN4g"
      },
      "source": [
        "sc = SparkSession.sparkContext"
      ],
      "execution_count": 157,
      "outputs": []
    },
    {
      "cell_type": "code",
      "metadata": {
        "id": "zqGgAV43XrdI",
        "outputId": "e93ed7d6-f72e-4aa8-bb61-1ae22528fd19",
        "colab": {
          "base_uri": "https://localhost:8080/",
          "height": 176
        }
      },
      "source": [
        "!pip install chart_studio"
      ],
      "execution_count": 158,
      "outputs": [
        {
          "output_type": "stream",
          "text": [
            "Requirement already satisfied: chart_studio in /usr/local/lib/python3.6/dist-packages (1.1.0)\n",
            "Requirement already satisfied: requests in /usr/local/lib/python3.6/dist-packages (from chart_studio) (2.23.0)\n",
            "Requirement already satisfied: six in /usr/local/lib/python3.6/dist-packages (from chart_studio) (1.15.0)\n",
            "Requirement already satisfied: plotly in /usr/local/lib/python3.6/dist-packages (from chart_studio) (4.7.1)\n",
            "Requirement already satisfied: retrying>=1.3.3 in /usr/local/lib/python3.6/dist-packages (from chart_studio) (1.3.3)\n",
            "Requirement already satisfied: chardet<4,>=3.0.2 in /usr/local/lib/python3.6/dist-packages (from requests->chart_studio) (3.0.4)\n",
            "Requirement already satisfied: urllib3!=1.25.0,!=1.25.1,<1.26,>=1.21.1 in /usr/local/lib/python3.6/dist-packages (from requests->chart_studio) (1.24.3)\n",
            "Requirement already satisfied: certifi>=2017.4.17 in /usr/local/lib/python3.6/dist-packages (from requests->chart_studio) (2020.6.20)\n",
            "Requirement already satisfied: idna<3,>=2.5 in /usr/local/lib/python3.6/dist-packages (from requests->chart_studio) (2.10)\n"
          ],
          "name": "stdout"
        }
      ]
    },
    {
      "cell_type": "code",
      "metadata": {
        "id": "cS0ng5bQXguu"
      },
      "source": [
        "import chart_studio.plotly as py\n",
        "import plotly.graph_objs as go\n",
        "import pandas as pd\n",
        "import requests\n",
        "requests.packages.urllib3.disable_warnings()"
      ],
      "execution_count": 159,
      "outputs": []
    },
    {
      "cell_type": "code",
      "metadata": {
        "id": "Ao1UXU1oYTsi"
      },
      "source": [
        "import plotly.graph_objects as go\n",
        "fig = go.Figure(data=go.Bar(y=pandasBikeDF.d1))\n"
      ],
      "execution_count": 160,
      "outputs": []
    },
    {
      "cell_type": "code",
      "metadata": {
        "id": "dkgU8yXhcfMD"
      },
      "source": [
        "gender = affectedGendersDF.toPandas()['gender']\n",
        "count = affectedGendersDF.toPandas()['count']"
      ],
      "execution_count": 161,
      "outputs": []
    },
    {
      "cell_type": "code",
      "metadata": {
        "id": "A4xI3d2icNvs"
      },
      "source": [
        "fig = go.Figure(data=go.Bar(x=gender,y=count))"
      ],
      "execution_count": 162,
      "outputs": []
    },
    {
      "cell_type": "code",
      "metadata": {
        "id": "fOLogFyTc7AJ"
      },
      "source": [
        "fig.show(\"png\")"
      ],
      "execution_count": null,
      "outputs": []
    },
    {
      "cell_type": "code",
      "metadata": {
        "id": "RPFWGENGfog8"
      },
      "source": [
        "affectAgeGroup = affectedAgeGroupDF.toPandas()['agegroup']\n",
        "affectAgeCount = affectedAgeGroupDF.toPandas()['count']"
      ],
      "execution_count": 164,
      "outputs": []
    },
    {
      "cell_type": "code",
      "metadata": {
        "id": "-lgfihBef_zB"
      },
      "source": [
        "import plotly.express as px\n",
        "fig = px.pie(values=affectAgeCount, names=affectAgeGroup,title='Affected Age Group by Covid19' ,color_discrete_sequence=px.colors.sequential.RdBu)\n",
        "fig.update_layout(uniformtext_minsize=21, uniformtext_mode='hide')\n",
        "fig.show('png')"
      ],
      "execution_count": null,
      "outputs": []
    },
    {
      "cell_type": "markdown",
      "metadata": {
        "id": "QoL6koNSiTnK"
      },
      "source": [
        "Pie Chart Example"
      ]
    },
    {
      "cell_type": "code",
      "metadata": {
        "id": "KPatKMXRhjlc"
      },
      "source": [
        "fig = px.pie(values=affectAgeCount, names=affectAgeGroup,hole=0.3, title='Affected Age Group by Covid19')\n",
        "fig.update_layout(uniformtext_minsize=21, uniformtext_mode='hide',)\n",
        "fig.show('png')"
      ],
      "execution_count": null,
      "outputs": []
    },
    {
      "cell_type": "code",
      "metadata": {
        "id": "VbMEq_Y4mH0L"
      },
      "source": [
        "city = affectedCityDF.toPandas()['detectedcity']\n",
        "cityWisePatient = affectedCityDF.toPandas()['count']"
      ],
      "execution_count": 171,
      "outputs": []
    },
    {
      "cell_type": "code",
      "metadata": {
        "id": "BKf6bwhongEc",
        "outputId": "b587ac65-e4e5-459b-c474-d76d230b05f0",
        "colab": {
          "base_uri": "https://localhost:8080/",
          "height": 542
        }
      },
      "source": [
        "fig = px.bar(x=city, y=cityWisePatient,title=\"City wise Patient\",orientation=\"v\")\n",
        "fig.update_traces(texttemplate='%{text:.2s}', textposition='outside')\n",
        "fig.update_layout(uniformtext_minsize=8, uniformtext_mode='hide', xaxis_tickangle=-45)\n",
        "fig.show('png')"
      ],
      "execution_count": 188,
      "outputs": [
        {
          "output_type": "display_data",
          "data": {
            "text/html": [
              "<html>\n",
              "<head><meta charset=\"utf-8\" /></head>\n",
              "<body>\n",
              "    <div>\n",
              "            <script src=\"https://cdnjs.cloudflare.com/ajax/libs/mathjax/2.7.5/MathJax.js?config=TeX-AMS-MML_SVG\"></script><script type=\"text/javascript\">if (window.MathJax) {MathJax.Hub.Config({SVG: {font: \"STIX-Web\"}});}</script>\n",
              "                <script type=\"text/javascript\">window.PlotlyConfig = {MathJaxConfig: 'local'};</script>\n",
              "        <script src=\"https://cdn.plot.ly/plotly-latest.min.js\"></script>    \n",
              "            <div id=\"30edfbca-3e50-41a5-99dd-7b40358d49aa\" class=\"plotly-graph-div\" style=\"height:525px; width:100%;\"></div>\n",
              "            <script type=\"text/javascript\">\n",
              "                \n",
              "                    window.PLOTLYENV=window.PLOTLYENV || {};\n",
              "                    \n",
              "                if (document.getElementById(\"30edfbca-3e50-41a5-99dd-7b40358d49aa\")) {\n",
              "                    Plotly.newPlot(\n",
              "                        '30edfbca-3e50-41a5-99dd-7b40358d49aa',\n",
              "                        [{\"alignmentgroup\": \"True\", \"hovertemplate\": \"x=%{x}<br>y=%{y}<extra></extra>\", \"legendgroup\": \"\", \"marker\": {\"color\": \"#636efa\"}, \"name\": \"\", \"offsetgroup\": \"\", \"orientation\": \"v\", \"showlegend\": false, \"textposition\": \"outside\", \"texttemplate\": \"%{text:.2s}\", \"type\": \"bar\", \"x\": [\"Thane\", \"MCGM\", \"Navi Mumbai\", \"PMC\", \"Vasai-Virar\", \"Mira-Bhayandar\", \"Nagpur\", \"Kalyan-Dombivali\", \"Pimpri-Chinchwad\", \"Bengaluru\", \"Malegaon\", \"Mumbai\", \"Pune\", \"Thane Rural\", \"Kasaragod\", \"Nanjangud\", \"Nizamuddin area\", \"Jamalpur\", \"Panvel\", \"Hyderabad\", \"Aurangabad\", \"Mettupalayam\", \"Bhubaneswar\", \"Ahmednagar\", \"Anandpet\", \"Ongole\", \"Bhilwara\", \"Bihar Sarif\", \"Vijayawada\", \"Perundurai\", \"Pune Rural\", \"Ahmedabad\", \"Gurugram\", \"Kurnool\", \"Nanjanagudu\", \"Ramganj\", \"Palghar Rural\", \"Kummari Bazar\", \"Bodi\", \"Hindpiri\", \"Noida\", \"Hirebagewadi\", \"MBMC\", \"Mohali\", \"Khajpura\", \"Raibagh\", \"Kochi\", \"Vadodara\", \"Sada Bazaar\", \"Agra\", \"Guntur\", \"Sangli\", \"Indore\", \"Jaipur\", \"Chennai\", \"Nandyal\", \"Jabalpur\", \"Kadappa\", \"Mudhol\", \"Chainpur\", \"Hospete\", \"PCMC\", \"Ahmednagar Rural\", \"Bhatkal\", \"Lucknow\", \"Raigarh Rural\", \"Malavalli\", \"Ranni\", \"Jawaharpur\", \"Gandhinagar\", \"Delhi\", \"Chandigarh\", \"Rajkot\", \"Chirala\", \"Ahmadabad\", \"Thane Corp\", \"Kathipudi\", \"Gauribidanur\", \"Nagpur Rural\", \"Nawanshahr\", \"Leh\", \"Nandyala\", \"Bomikhal\", \"Jhunjhunu\", \"Dachepalli\", \"KDMC\", \"Mooriyad\", \"Sasaram\", \"Anantapur\", \"Surat\", \"Bihar Sharif\", \"Nellore\", \"Hindipiri\", \"Sangadi Gunta\", \"Sector 26\", \"Kalaburagi\", \"Annaimalai\", \"Rajpura\", \"Yavatmal\", \"Ajmer\", \"Hubballi\", \"Jaisalmer\", \"Jharpada\", \"Hajin\", \"Kolkata\", \"Ganigali Street\", \"Bhiwandi\", \"Begampur\", \"Buchayathota\", \"Mumbai Suburb\", \"Chengala\", \"Mangaluru\", \"Nashik\", \"Tissa\", \"Phillaur\", \"Kulathupuzha\", \"chandigarh sector 30\", \"Anandpeta\", \"Hubli\", \"Beleghata\", \"Hindupur\", \"Raibag\", \"Narasarao Peta\", \"Kangra\", \"Nashik Rural\", \"Srikalahasti\", \"Noida \", \"Sector 37\", \"Hospet\", \"Kashmir Division\", \"Goa\", \"Natipora\", \"Cheruvanchery\", \"Rourkela\", \"Amaravati\", \"Penugonda\", \"Banaganapalli\", \"Habeeb Mubarak Nagar\", \"Aurangabad Rural\", \"Katghora\", \"Srinivasaraopeta\", \"Janakpuri\", \"Dehradun\", \"Greater Noida\", \"Ariyankuppam\", \"Thirupathur\", \"Kottayam Malabar\", \"Naidupeta\", \"Mumbai City\", \"Thyagaraja Nagar,Tirupathi\", \"Raipur\", \"Maradu\", \"Panipat\", \"Maddur\", \"Bengaluru \", \"Parvati - Pune\", \"Srinagar\", \"Arundelpeta\", \"Karimnagar\", \"Kadirur\", \"Dhamnagar\", \"Faridabad\", \"Chusot\", \"Davangere\", \"Ladakh\", \"Jammu\", \"Akkayyapelem\", \"Vuruvakatta\", \"Kotamitta\", \"Periyakulam\", \"Bhavnagar\", \"Shastrinagar\", \"Uppinangadi\", \"Malappuram\", \"Chengalam\", \"Kudiyanmala\", \"Gowribidanur\", \"Pilibhit\", \"Kannur\", \"Ropar\", \"Bidar\", \"Chendayad\", \"Narsipatnam\", \"R K Function Hall Backside\", \"Jahangirpuri\", \"Kunkalamarru,karamchedu\", \"Thrissur\", \"Madhusudan\", \"Kukatpally\", \"Temple Gate\", \"Bantwala\", \"Pollachi\", \"Nedumkandam\", \"-\", \"Naya bhojpur\", \"Mahe\", \"Tada\", \"Gani Gali Street\", \"Eluru\", \"Jamakhandi\", \"Lowadih\", \"Azad Basti\", \"Karunkalpalayam\", \"Elappara\", \"Peringathur\", \"Raibhag\", \"Panvel (Kamothe)\", \"Domalguda\", \"Garhshankar\", \"Bilaspur\", \"Panachikkad\", \"Ghaziabad\", \"Bhopal\", \"Madayi\", \"Thiruvananthapuram\", \"Lepakshi\", \"Kozhencherry\", \"Vakadu\", \"Hindpidi\", \"Gadivemula\", \"Mysuru\", \"Nagiri\", \"NOIDA\", \"Rajouri\", \"Uthamapalayam\", \"Rajahmundry\", \"Purasaivakkam\", \"Tihidi\", \"Visakhapatnam\", \"Macherla\", \"Thiruvandarkoil\", \"Mancheri\", \"Jamkhandi\", \"Chemnad\", \"Keelkattalai\", \"Udaipur\", \"Iriveri\", \"Sangaih Pet\", \"Narsapuram\", \"Doddaballapura\", \"Magunta Layout\", \"Sadar\", \"Athmakur\", \"Naravoor\", \"Kuzhalmannam\", \"Nandavaram\", \"Asthwan\", \"Naugachia\", \"Aravinda Nagar\", \"Srinivasaraopet\", \"Shahbad\", \"Chandanagar\", \"Prakasam Nagar\", \"Beed\", \"Somajiguda\", \"Begumpet\", \"Ganigalli\", \"Maniyarankudy\", \"Kaushambi\", \"Golamunda\", \"Chathanur\", \"Chengalayi\", \"Pothanur\", \"Chuchot\", \"Kandukuru\", \"Thodupuzha\", \"Ponnur Mandal\", \"Kokapet\", \"Lalwani Rd\", \"Shashtri Nagar\", \"Kortepadu\", \"Nanjangudu\", \"Kadalundi\", \"Sharif\", \"Ghat Gate\", \"Karampudi\", \"Ayyaluru\", \"Tri Nagar\", \"Patna\", \"Jodhpur\", \"North Delhi\", \"Ariyalur\", \"SriLakshmi Nagar\", \"Baramati\", \"Gajuwaka\", \"Chagala Marri\", \"Hindupur Mandal\", \"Thane - Vashi\", \"Balkampet\", \"Tumkur\", \"\\n\", \"Phulwari\", \"Khanyar\", \"Naik Nagar\", \"Chapparapadavu\", \"Bellary\", \"Haripriya Garden\", \"Mooriyadh\", \"Tada Mandal\", \"Ranganayakakulapeta\", \"Tollygugne\", \"Kodagu\", \"Varanasi\", \"Gandhi Nagar\", \"Thirumuru\", \"Gautam Buddh Nagar\", \"Revenue Colony\", \"Kanichar\", \"Shrungartali\", \"Ulhasnagar\", \"Nandikotkur\", \"Machilipatnam\", \"Narsaraopet\", \"Panchkula\", \"Sector 32\", \"Kalanadu\", \"periyakulam\", \"Banaganapalle Mandal\", \"Tiruppur\", \"Limboni Nagar Pune\", \"Pandalam\", \"Kothacheruvu\", \"Golekbana\", \"Mallam\", \"Kodumur\", \"Dilshad Garden\", \"Pedda\", \"Kottayam-Malabar\", \"Chittari\", \"Dadra and Nagar Haveli\", \"Chikkaballapura\", \"Kolayad\", \"Melapalayam\", \"Basavakalyan\", \"Ranihari Thotta\", \"Palwal\", \"West Mambalam\", \"Puttur\", \"Vasai Virar\", \"Arundalpet\", \"Rana Pratap Bagh\", \"Cheeda\", \"Konakalamitta Mandal\", \"Ludhiana\", \"Nagappa Street\", \"Bagewadi\", \"Koretipadu\", \"Manikonda\", \"Hadapsar-Pune\", \"Mokeri\", \"Amritsar\", \"Hosayellapur\", \"Hadapsar - Pune\", \"Pammal\", \"Bedamcherla\", \"Gudur\", \"Vengara\", \"   \", \"Devakottai\", \"Chandrababu Nagar\", \"Pathipalam\", \"Bhilai\", \"SankranthI\", \"Tallamundunurupadu\", \"Devanagar\", \"Velapuram\", \"Vikas Nagar\", \"Kumbakonam\", \"Atmukur\", \"Saidabad\", \"Nindra\", \"Muzhappilangad\", \"Munger\", \"Nandyal Town\", \"A-park road\", \"West Delhi\", \"Sonepat\", \"Porur\", \"Kargil\", \"Ujjain\", \"Kavilpad\", \"Kotaveedhi\", \"Chatenyapuri\", \"Shillong\", \"Cherukunnu\", \"Pathayakunnu\", \"Pachdewari\", \"Markapur\", \"Ambala\", \"Ilayankudi\", \"Gautam Puri\", \"Nadyal\", \"Moolakulam\", \"Sankoo Valley\", \"Sasthamkotta\", \"Saket\", \"Prakulam\", \"Silchar\", \"Khadakpura\", \"Pune Dist\", \"Goreakothi\", \"Imphal\", \"Bhubaneshwar\", \"East Delhi (Mayur Vihar)\", \"Anna Nagar\", \"Gonampalle\", \"Kalyana Durgam\", \"Broadway\", \"Budhavur Petta\", \"Saidapet\", \"Madurai\", \"Ponnur\", \"Secunderabad\", \"Udupi\", \"Payakapuram\", \"Nayagaon\", \"Malyala Village\", \"Eriyal\", \"Nedumangad\", \"Mehsana\", \"Rajapalayam\", \"Ashok Vihar\", \"Budhavarpeta\", \"Bomikhal, Bhubaneswar\", \"Banga\", \"Pedda Bazar\", \"Nandyala Mandal\", \"Panyam\", \"Malvalli\", \"Kothagudem\", \"Qutbullapur\", \"Coimbatore\", \"Kunnothuparambu\", \"Turimella\", \"Kiramani Colony\", \"Atmakur\", \"Kodaru\", \"Chandabada\", \"Kunkala Marru\", \"Bilal Colony\", \"Munnar\", \"Vedigadla\", \"Walajapet\", \"Sujjanpur\", \"Tirupati\", \"Bhore\", \"Dum Dum\", \"Ottapalam\", \"Dimapur, Nagaland\", \"Kakinada\", \"Chinna Masjid\", \"Bhimatangi, Bhubaneswar\", \"Padidempadu\", \"Budhawarapetta\", \"Kanpur\", \"Vadamalapeta\", \"Salt Lake\", \"Jaunpur\", \"Gachibowli\", \"Varkala\", \"Islamapet\", \"Vilayur\", \"Nayabad\", \"Edacheri\", \"Bantwal\", \"Kancheepuram\", \"Chinnamanur\", \"Jalgaon Rural\", \"Chathannoor\", \"Bhawani Peth Pune\", \"Narsingh Rao Pet\", \"Shalisaheb Street\", \"Rajnandgaon\", \"Raigarh\", \"Champad\", \"Muthiyanga\", \"Mogral Puthur\", \"Sujata Convent\", \"Kot Kar Khan\", \"Panemangalore\", \"Alappuzha\", \"Baghpat\", \"Osmania College Road\", \"Khandala\", \"Katpadi\", \"Sector 12\", \"Bombooflat\", \"Visakapatnam\", \"Islam petta, Atmakur\", \"Habra\", \"Koduvally\", \"Chikkodi\", \"Tirunelveli\", \"Dugadda\", \"Nelamalipudi,Ozhili\", \"Uttam Nagar\", \"Lakhapt\", \"Kanjikode\", \"Kolhapur Rural\", \"Manarcad\", \"Bhiwara\", \"Keelapattu nagari\", \"Renigunta\", \"Tadepalligudem\", \"KVR Garden\", \"Peralassery\", \"Moradabad\", \"Dera Bassi, Mohali\", \"New Mahe\", \"Lakhimpur Kheri\", \"Shahgunj\"], \"xaxis\": \"x\", \"y\": [108, 108, 71, 69, 61, 53, 51, 50, 49, 47, 46, 45, 40, 29, 26, 25, 24, 23, 23, 23, 20, 20, 19, 19, 19, 19, 19, 18, 18, 17, 17, 17, 17, 16, 15, 15, 14, 13, 13, 12, 12, 12, 11, 11, 10, 10, 9, 9, 9, 9, 9, 9, 9, 9, 8, 8, 8, 8, 8, 8, 8, 8, 8, 7, 7, 7, 7, 7, 7, 7, 7, 7, 7, 7, 7, 6, 6, 6, 6, 6, 6, 6, 6, 6, 5, 5, 5, 5, 5, 5, 5, 5, 5, 5, 5, 5, 5, 5, 4, 4, 4, 4, 4, 4, 4, 4, 4, 4, 4, 4, 4, 4, 4, 4, 3, 3, 3, 3, 3, 3, 3, 3, 3, 3, 3, 3, 3, 3, 3, 3, 3, 3, 3, 3, 3, 3, 3, 3, 3, 3, 3, 3, 3, 3, 3, 3, 3, 3, 3, 3, 3, 3, 3, 3, 3, 3, 3, 3, 3, 3, 2, 2, 2, 2, 2, 2, 2, 2, 2, 2, 2, 2, 2, 2, 2, 2, 2, 2, 2, 2, 2, 2, 2, 2, 2, 2, 2, 2, 2, 2, 2, 2, 2, 2, 2, 2, 2, 2, 2, 2, 2, 2, 2, 2, 2, 2, 2, 2, 2, 2, 2, 2, 2, 2, 2, 2, 2, 2, 2, 2, 2, 2, 2, 2, 2, 2, 2, 2, 2, 2, 2, 1, 1, 1, 1, 1, 1, 1, 1, 1, 1, 1, 1, 1, 1, 1, 1, 1, 1, 1, 1, 1, 1, 1, 1, 1, 1, 1, 1, 1, 1, 1, 1, 1, 1, 1, 1, 1, 1, 1, 1, 1, 1, 1, 1, 1, 1, 1, 1, 1, 1, 1, 1, 1, 1, 1, 1, 1, 1, 1, 1, 1, 1, 1, 1, 1, 1, 1, 1, 1, 1, 1, 1, 1, 1, 1, 1, 1, 1, 1, 1, 1, 1, 1, 1, 1, 1, 1, 1, 1, 1, 1, 1, 1, 1, 1, 1, 1, 1, 1, 1, 1, 1, 1, 1, 1, 1, 1, 1, 1, 1, 1, 1, 1, 1, 1, 1, 1, 1, 1, 1, 1, 1, 1, 1, 1, 1, 1, 1, 1, 1, 1, 1, 1, 1, 1, 1, 1, 1, 1, 1, 1, 1, 1, 1, 1, 1, 1, 1, 1, 1, 1, 1, 1, 1, 1, 1, 1, 1, 1, 1, 1, 1, 1, 1, 1, 1, 1, 1, 1, 1, 1, 1, 1, 1, 1, 1, 1, 1, 1, 1, 1, 1, 1, 1, 1, 1, 1, 1, 1, 1, 1, 1, 1, 1, 1, 1, 1, 1, 1, 1, 1, 1, 1, 1, 1, 1, 1, 1, 1, 1, 1, 1, 1, 1, 1, 1, 1, 1, 1, 1, 1, 1, 1, 1, 1, 1, 1, 1, 1, 1, 1, 1, 1, 1, 1, 1, 1, 1, 1, 1, 1, 1, 1, 1, 1, 1, 1, 1, 1, 1, 1, 1, 1, 1, 1, 1, 1, 1, 1, 1, 1, 1, 1, 1, 1, 1, 1, 1, 1, 1, 1, 1, 1, 1, 1, 1, 1, 1, 1, 1], \"yaxis\": \"y\"}],\n",
              "                        {\"barmode\": \"relative\", \"legend\": {\"tracegroupgap\": 0}, \"template\": {\"data\": {\"bar\": [{\"error_x\": {\"color\": \"#2a3f5f\"}, \"error_y\": {\"color\": \"#2a3f5f\"}, \"marker\": {\"line\": {\"color\": \"#E5ECF6\", \"width\": 0.5}}, \"type\": \"bar\"}], \"barpolar\": [{\"marker\": {\"line\": {\"color\": \"#E5ECF6\", \"width\": 0.5}}, \"type\": \"barpolar\"}], \"carpet\": [{\"aaxis\": {\"endlinecolor\": \"#2a3f5f\", \"gridcolor\": \"white\", \"linecolor\": \"white\", \"minorgridcolor\": \"white\", \"startlinecolor\": \"#2a3f5f\"}, \"baxis\": {\"endlinecolor\": \"#2a3f5f\", \"gridcolor\": \"white\", \"linecolor\": \"white\", \"minorgridcolor\": \"white\", \"startlinecolor\": \"#2a3f5f\"}, \"type\": \"carpet\"}], \"choropleth\": [{\"colorbar\": {\"outlinewidth\": 0, \"ticks\": \"\"}, \"type\": \"choropleth\"}], \"contour\": [{\"colorbar\": {\"outlinewidth\": 0, \"ticks\": \"\"}, \"colorscale\": [[0.0, \"#0d0887\"], [0.1111111111111111, \"#46039f\"], [0.2222222222222222, \"#7201a8\"], [0.3333333333333333, \"#9c179e\"], [0.4444444444444444, \"#bd3786\"], [0.5555555555555556, \"#d8576b\"], [0.6666666666666666, \"#ed7953\"], [0.7777777777777778, \"#fb9f3a\"], [0.8888888888888888, \"#fdca26\"], [1.0, \"#f0f921\"]], \"type\": \"contour\"}], \"contourcarpet\": [{\"colorbar\": {\"outlinewidth\": 0, \"ticks\": \"\"}, \"type\": \"contourcarpet\"}], \"heatmap\": [{\"colorbar\": {\"outlinewidth\": 0, \"ticks\": \"\"}, \"colorscale\": [[0.0, \"#0d0887\"], [0.1111111111111111, \"#46039f\"], [0.2222222222222222, \"#7201a8\"], [0.3333333333333333, \"#9c179e\"], [0.4444444444444444, \"#bd3786\"], [0.5555555555555556, \"#d8576b\"], [0.6666666666666666, \"#ed7953\"], [0.7777777777777778, \"#fb9f3a\"], [0.8888888888888888, \"#fdca26\"], [1.0, \"#f0f921\"]], \"type\": \"heatmap\"}], \"heatmapgl\": [{\"colorbar\": {\"outlinewidth\": 0, \"ticks\": \"\"}, \"colorscale\": [[0.0, \"#0d0887\"], [0.1111111111111111, \"#46039f\"], [0.2222222222222222, \"#7201a8\"], [0.3333333333333333, \"#9c179e\"], [0.4444444444444444, \"#bd3786\"], [0.5555555555555556, \"#d8576b\"], [0.6666666666666666, \"#ed7953\"], [0.7777777777777778, \"#fb9f3a\"], [0.8888888888888888, \"#fdca26\"], [1.0, \"#f0f921\"]], \"type\": \"heatmapgl\"}], \"histogram\": [{\"marker\": {\"colorbar\": {\"outlinewidth\": 0, \"ticks\": \"\"}}, \"type\": \"histogram\"}], \"histogram2d\": [{\"colorbar\": {\"outlinewidth\": 0, \"ticks\": \"\"}, \"colorscale\": [[0.0, \"#0d0887\"], [0.1111111111111111, \"#46039f\"], [0.2222222222222222, \"#7201a8\"], [0.3333333333333333, \"#9c179e\"], [0.4444444444444444, \"#bd3786\"], [0.5555555555555556, \"#d8576b\"], [0.6666666666666666, \"#ed7953\"], [0.7777777777777778, \"#fb9f3a\"], [0.8888888888888888, \"#fdca26\"], [1.0, \"#f0f921\"]], \"type\": \"histogram2d\"}], \"histogram2dcontour\": [{\"colorbar\": {\"outlinewidth\": 0, \"ticks\": \"\"}, \"colorscale\": [[0.0, \"#0d0887\"], [0.1111111111111111, \"#46039f\"], [0.2222222222222222, \"#7201a8\"], [0.3333333333333333, \"#9c179e\"], [0.4444444444444444, \"#bd3786\"], [0.5555555555555556, \"#d8576b\"], [0.6666666666666666, \"#ed7953\"], [0.7777777777777778, \"#fb9f3a\"], [0.8888888888888888, \"#fdca26\"], [1.0, \"#f0f921\"]], \"type\": \"histogram2dcontour\"}], \"mesh3d\": [{\"colorbar\": {\"outlinewidth\": 0, \"ticks\": \"\"}, \"type\": \"mesh3d\"}], \"parcoords\": [{\"line\": {\"colorbar\": {\"outlinewidth\": 0, \"ticks\": \"\"}}, \"type\": \"parcoords\"}], \"pie\": [{\"automargin\": true, \"type\": \"pie\"}], \"scatter\": [{\"marker\": {\"colorbar\": {\"outlinewidth\": 0, \"ticks\": \"\"}}, \"type\": \"scatter\"}], \"scatter3d\": [{\"line\": {\"colorbar\": {\"outlinewidth\": 0, \"ticks\": \"\"}}, \"marker\": {\"colorbar\": {\"outlinewidth\": 0, \"ticks\": \"\"}}, \"type\": \"scatter3d\"}], \"scattercarpet\": [{\"marker\": {\"colorbar\": {\"outlinewidth\": 0, \"ticks\": \"\"}}, \"type\": \"scattercarpet\"}], \"scattergeo\": [{\"marker\": {\"colorbar\": {\"outlinewidth\": 0, \"ticks\": \"\"}}, \"type\": \"scattergeo\"}], \"scattergl\": [{\"marker\": {\"colorbar\": {\"outlinewidth\": 0, \"ticks\": \"\"}}, \"type\": \"scattergl\"}], \"scattermapbox\": [{\"marker\": {\"colorbar\": {\"outlinewidth\": 0, \"ticks\": \"\"}}, \"type\": \"scattermapbox\"}], \"scatterpolar\": [{\"marker\": {\"colorbar\": {\"outlinewidth\": 0, \"ticks\": \"\"}}, \"type\": \"scatterpolar\"}], \"scatterpolargl\": [{\"marker\": {\"colorbar\": {\"outlinewidth\": 0, \"ticks\": \"\"}}, \"type\": \"scatterpolargl\"}], \"scatterternary\": [{\"marker\": {\"colorbar\": {\"outlinewidth\": 0, \"ticks\": \"\"}}, \"type\": \"scatterternary\"}], \"surface\": [{\"colorbar\": {\"outlinewidth\": 0, \"ticks\": \"\"}, \"colorscale\": [[0.0, \"#0d0887\"], [0.1111111111111111, \"#46039f\"], [0.2222222222222222, \"#7201a8\"], [0.3333333333333333, \"#9c179e\"], [0.4444444444444444, \"#bd3786\"], [0.5555555555555556, \"#d8576b\"], [0.6666666666666666, \"#ed7953\"], [0.7777777777777778, \"#fb9f3a\"], [0.8888888888888888, \"#fdca26\"], [1.0, \"#f0f921\"]], \"type\": \"surface\"}], \"table\": [{\"cells\": {\"fill\": {\"color\": \"#EBF0F8\"}, \"line\": {\"color\": \"white\"}}, \"header\": {\"fill\": {\"color\": \"#C8D4E3\"}, \"line\": {\"color\": \"white\"}}, \"type\": \"table\"}]}, \"layout\": {\"annotationdefaults\": {\"arrowcolor\": \"#2a3f5f\", \"arrowhead\": 0, \"arrowwidth\": 1}, \"coloraxis\": {\"colorbar\": {\"outlinewidth\": 0, \"ticks\": \"\"}}, \"colorscale\": {\"diverging\": [[0, \"#8e0152\"], [0.1, \"#c51b7d\"], [0.2, \"#de77ae\"], [0.3, \"#f1b6da\"], [0.4, \"#fde0ef\"], [0.5, \"#f7f7f7\"], [0.6, \"#e6f5d0\"], [0.7, \"#b8e186\"], [0.8, \"#7fbc41\"], [0.9, \"#4d9221\"], [1, \"#276419\"]], \"sequential\": [[0.0, \"#0d0887\"], [0.1111111111111111, \"#46039f\"], [0.2222222222222222, \"#7201a8\"], [0.3333333333333333, \"#9c179e\"], [0.4444444444444444, \"#bd3786\"], [0.5555555555555556, \"#d8576b\"], [0.6666666666666666, \"#ed7953\"], [0.7777777777777778, \"#fb9f3a\"], [0.8888888888888888, \"#fdca26\"], [1.0, \"#f0f921\"]], \"sequentialminus\": [[0.0, \"#0d0887\"], [0.1111111111111111, \"#46039f\"], [0.2222222222222222, \"#7201a8\"], [0.3333333333333333, \"#9c179e\"], [0.4444444444444444, \"#bd3786\"], [0.5555555555555556, \"#d8576b\"], [0.6666666666666666, \"#ed7953\"], [0.7777777777777778, \"#fb9f3a\"], [0.8888888888888888, \"#fdca26\"], [1.0, \"#f0f921\"]]}, \"colorway\": [\"#636efa\", \"#EF553B\", \"#00cc96\", \"#ab63fa\", \"#FFA15A\", \"#19d3f3\", \"#FF6692\", \"#B6E880\", \"#FF97FF\", \"#FECB52\"], \"font\": {\"color\": \"#2a3f5f\"}, \"geo\": {\"bgcolor\": \"white\", \"lakecolor\": \"white\", \"landcolor\": \"#E5ECF6\", \"showlakes\": true, \"showland\": true, \"subunitcolor\": \"white\"}, \"hoverlabel\": {\"align\": \"left\"}, \"hovermode\": \"closest\", \"mapbox\": {\"style\": \"light\"}, \"paper_bgcolor\": \"white\", \"plot_bgcolor\": \"#E5ECF6\", \"polar\": {\"angularaxis\": {\"gridcolor\": \"white\", \"linecolor\": \"white\", \"ticks\": \"\"}, \"bgcolor\": \"#E5ECF6\", \"radialaxis\": {\"gridcolor\": \"white\", \"linecolor\": \"white\", \"ticks\": \"\"}}, \"scene\": {\"xaxis\": {\"backgroundcolor\": \"#E5ECF6\", \"gridcolor\": \"white\", \"gridwidth\": 2, \"linecolor\": \"white\", \"showbackground\": true, \"ticks\": \"\", \"zerolinecolor\": \"white\"}, \"yaxis\": {\"backgroundcolor\": \"#E5ECF6\", \"gridcolor\": \"white\", \"gridwidth\": 2, \"linecolor\": \"white\", \"showbackground\": true, \"ticks\": \"\", \"zerolinecolor\": \"white\"}, \"zaxis\": {\"backgroundcolor\": \"#E5ECF6\", \"gridcolor\": \"white\", \"gridwidth\": 2, \"linecolor\": \"white\", \"showbackground\": true, \"ticks\": \"\", \"zerolinecolor\": \"white\"}}, \"shapedefaults\": {\"line\": {\"color\": \"#2a3f5f\"}}, \"ternary\": {\"aaxis\": {\"gridcolor\": \"white\", \"linecolor\": \"white\", \"ticks\": \"\"}, \"baxis\": {\"gridcolor\": \"white\", \"linecolor\": \"white\", \"ticks\": \"\"}, \"bgcolor\": \"#E5ECF6\", \"caxis\": {\"gridcolor\": \"white\", \"linecolor\": \"white\", \"ticks\": \"\"}}, \"title\": {\"x\": 0.05}, \"xaxis\": {\"automargin\": true, \"gridcolor\": \"white\", \"linecolor\": \"white\", \"ticks\": \"\", \"title\": {\"standoff\": 15}, \"zerolinecolor\": \"white\", \"zerolinewidth\": 2}, \"yaxis\": {\"automargin\": true, \"gridcolor\": \"white\", \"linecolor\": \"white\", \"ticks\": \"\", \"title\": {\"standoff\": 15}, \"zerolinecolor\": \"white\", \"zerolinewidth\": 2}}}, \"title\": {\"text\": \"City wise Patient\"}, \"uniformtext\": {\"minsize\": 8, \"mode\": \"hide\"}, \"xaxis\": {\"anchor\": \"y\", \"domain\": [0.0, 1.0], \"tickangle\": -45, \"title\": {\"text\": \"x\"}}, \"yaxis\": {\"anchor\": \"x\", \"domain\": [0.0, 1.0], \"title\": {\"text\": \"y\"}}},\n",
              "                        {\"responsive\": true}\n",
              "                    ).then(function(){\n",
              "                            \n",
              "var gd = document.getElementById('30edfbca-3e50-41a5-99dd-7b40358d49aa');\n",
              "var x = new MutationObserver(function (mutations, observer) {{\n",
              "        var display = window.getComputedStyle(gd).display;\n",
              "        if (!display || display === 'none') {{\n",
              "            console.log([gd, 'removed!']);\n",
              "            Plotly.purge(gd);\n",
              "            observer.disconnect();\n",
              "        }}\n",
              "}});\n",
              "\n",
              "// Listen for the removal of the full notebook cells\n",
              "var notebookContainer = gd.closest('#notebook-container');\n",
              "if (notebookContainer) {{\n",
              "    x.observe(notebookContainer, {childList: true});\n",
              "}}\n",
              "\n",
              "// Listen for the clearing of the current output cell\n",
              "var outputEl = gd.closest('.output');\n",
              "if (outputEl) {{\n",
              "    x.observe(outputEl, {childList: true});\n",
              "}}\n",
              "\n",
              "                        })\n",
              "                };\n",
              "                \n",
              "            </script>\n",
              "        </div>\n",
              "</body>\n",
              "</html>"
            ]
          },
          "metadata": {
            "tags": []
          }
        }
      ]
    }
  ]
}